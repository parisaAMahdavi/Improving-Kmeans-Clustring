{
 "cells": [
  {
   "cell_type": "code",
   "execution_count": 1,
   "id": "754be16b",
   "metadata": {
    "execution": {
     "iopub.execute_input": "2023-12-10T00:23:36.712657Z",
     "iopub.status.busy": "2023-12-10T00:23:36.712278Z",
     "iopub.status.idle": "2023-12-10T00:23:59.710398Z",
     "shell.execute_reply": "2023-12-10T00:23:59.709229Z"
    },
    "papermill": {
     "duration": 23.011131,
     "end_time": "2023-12-10T00:23:59.712468",
     "exception": false,
     "start_time": "2023-12-10T00:23:36.701337",
     "status": "completed"
    },
    "tags": []
   },
   "outputs": [
    {
     "name": "stderr",
     "output_type": "stream",
     "text": [
      "/opt/conda/lib/python3.10/site-packages/scipy/__init__.py:146: UserWarning: A NumPy version >=1.16.5 and <1.23.0 is required for this version of SciPy (detected version 1.23.5\n",
      "  warnings.warn(f\"A NumPy version >={np_minversion} and <{np_maxversion}\"\n",
      "/opt/conda/lib/python3.10/site-packages/umap/distances.py:1063: NumbaDeprecationWarning: \u001b[1mThe 'nopython' keyword argument was not supplied to the 'numba.jit' decorator. The implicit default value for this argument is currently False, but it will be changed to True in Numba 0.59.0. See https://numba.readthedocs.io/en/stable/reference/deprecation.html#deprecation-of-object-mode-fall-back-behaviour-when-using-jit for details.\u001b[0m\n",
      "  @numba.jit()\n",
      "/opt/conda/lib/python3.10/site-packages/umap/distances.py:1071: NumbaDeprecationWarning: \u001b[1mThe 'nopython' keyword argument was not supplied to the 'numba.jit' decorator. The implicit default value for this argument is currently False, but it will be changed to True in Numba 0.59.0. See https://numba.readthedocs.io/en/stable/reference/deprecation.html#deprecation-of-object-mode-fall-back-behaviour-when-using-jit for details.\u001b[0m\n",
      "  @numba.jit()\n",
      "/opt/conda/lib/python3.10/site-packages/umap/distances.py:1086: NumbaDeprecationWarning: \u001b[1mThe 'nopython' keyword argument was not supplied to the 'numba.jit' decorator. The implicit default value for this argument is currently False, but it will be changed to True in Numba 0.59.0. See https://numba.readthedocs.io/en/stable/reference/deprecation.html#deprecation-of-object-mode-fall-back-behaviour-when-using-jit for details.\u001b[0m\n",
      "  @numba.jit()\n",
      "/opt/conda/lib/python3.10/site-packages/umap/umap_.py:660: NumbaDeprecationWarning: \u001b[1mThe 'nopython' keyword argument was not supplied to the 'numba.jit' decorator. The implicit default value for this argument is currently False, but it will be changed to True in Numba 0.59.0. See https://numba.readthedocs.io/en/stable/reference/deprecation.html#deprecation-of-object-mode-fall-back-behaviour-when-using-jit for details.\u001b[0m\n",
      "  @numba.jit()\n"
     ]
    },
    {
     "name": "stdout",
     "output_type": "stream",
     "text": [
      "/kaggle/input/chatgpt-reddit/chatgpt-reddit-comments.csv\n"
     ]
    }
   ],
   "source": [
    "# This Python 3 environment comes with many helpful analytics libraries installed\n",
    "# It is defined by the kaggle/python Docker image: https://github.com/kaggle/docker-python\n",
    "# For example, here's several helpful packages to load\n",
    "\n",
    "import numpy as np # linear algebra\n",
    "import pandas as pd # data processing, CSV file I/O (e.g. pd.read_csv)\n",
    "import matplotlib.pyplot as plt\n",
    "from tqdm.notebook import tqdm\n",
    "import seaborn as sns\n",
    "import umap\n",
    "import re\n",
    "from sklearn.model_selection import train_test_split\n",
    "from sklearn.decomposition import PCA, TruncatedSVD\n",
    "from sklearn.cluster import KMeans\n",
    "from sklearn import metrics\n",
    "from time import time\n",
    "\n",
    "# Input data files are available in the read-only \"../input/\" directory\n",
    "# For example, running this (by clicking run or pressing Shift+Enter) will list all files under the input directory\n",
    "\n",
    "import os\n",
    "for dirname, _, filenames in os.walk('/kaggle/input'):\n",
    "    for filename in filenames:\n",
    "        print(os.path.join(dirname, filename))\n",
    "\n",
    "# You can write up to 20GB to the current directory (/kaggle/working/) that gets preserved as output when you create a version using \"Save & Run All\" \n",
    "# You can also write temporary files to /kaggle/temp/, but they won't be saved outside of the current session"
   ]
  },
  {
   "cell_type": "code",
   "execution_count": 2,
   "id": "abe34d94",
   "metadata": {
    "execution": {
     "iopub.execute_input": "2023-12-10T00:23:59.733017Z",
     "iopub.status.busy": "2023-12-10T00:23:59.732284Z",
     "iopub.status.idle": "2023-12-10T00:24:11.850445Z",
     "shell.execute_reply": "2023-12-10T00:24:11.849307Z"
    },
    "papermill": {
     "duration": 12.130434,
     "end_time": "2023-12-10T00:24:11.852631",
     "exception": false,
     "start_time": "2023-12-10T00:23:59.722197",
     "status": "completed"
    },
    "tags": []
   },
   "outputs": [
    {
     "name": "stdout",
     "output_type": "stream",
     "text": [
      "Requirement already satisfied: numba in /opt/conda/lib/python3.10/site-packages (0.57.1)\r\n",
      "Requirement already satisfied: llvmlite<0.41,>=0.40.0dev0 in /opt/conda/lib/python3.10/site-packages (from numba) (0.40.1)\r\n",
      "Requirement already satisfied: numpy<1.25,>=1.21 in /opt/conda/lib/python3.10/site-packages (from numba) (1.23.5)\r\n",
      "Note: you may need to restart the kernel to use updated packages.\n"
     ]
    }
   ],
   "source": [
    "pip install numba"
   ]
  },
  {
   "cell_type": "code",
   "execution_count": 3,
   "id": "ccce7d2e",
   "metadata": {
    "execution": {
     "iopub.execute_input": "2023-12-10T00:24:11.873330Z",
     "iopub.status.busy": "2023-12-10T00:24:11.872617Z",
     "iopub.status.idle": "2023-12-10T00:24:23.004699Z",
     "shell.execute_reply": "2023-12-10T00:24:23.003258Z"
    },
    "papermill": {
     "duration": 11.144801,
     "end_time": "2023-12-10T00:24:23.006967",
     "exception": false,
     "start_time": "2023-12-10T00:24:11.862166",
     "status": "completed"
    },
    "tags": []
   },
   "outputs": [
    {
     "name": "stdout",
     "output_type": "stream",
     "text": [
      "Requirement already satisfied: umap-learn in /opt/conda/lib/python3.10/site-packages (0.5.3)\r\n",
      "Requirement already satisfied: numpy>=1.17 in /opt/conda/lib/python3.10/site-packages (from umap-learn) (1.23.5)\r\n",
      "Requirement already satisfied: scikit-learn>=0.22 in /opt/conda/lib/python3.10/site-packages (from umap-learn) (1.2.2)\r\n",
      "Requirement already satisfied: scipy>=1.0 in /opt/conda/lib/python3.10/site-packages (from umap-learn) (1.11.1)\r\n",
      "Requirement already satisfied: numba>=0.49 in /opt/conda/lib/python3.10/site-packages (from umap-learn) (0.57.1)\r\n",
      "Requirement already satisfied: pynndescent>=0.5 in /opt/conda/lib/python3.10/site-packages (from umap-learn) (0.5.10)\r\n",
      "Requirement already satisfied: tqdm in /opt/conda/lib/python3.10/site-packages (from umap-learn) (4.65.0)\r\n",
      "Requirement already satisfied: llvmlite<0.41,>=0.40.0dev0 in /opt/conda/lib/python3.10/site-packages (from numba>=0.49->umap-learn) (0.40.1)\r\n",
      "Requirement already satisfied: joblib>=0.11 in /opt/conda/lib/python3.10/site-packages (from pynndescent>=0.5->umap-learn) (1.2.0)\r\n",
      "Requirement already satisfied: threadpoolctl>=2.0.0 in /opt/conda/lib/python3.10/site-packages (from scikit-learn>=0.22->umap-learn) (3.1.0)\r\n",
      "Note: you may need to restart the kernel to use updated packages.\n"
     ]
    }
   ],
   "source": [
    "pip install umap-learn"
   ]
  },
  {
   "cell_type": "code",
   "execution_count": 4,
   "id": "792e2854",
   "metadata": {
    "execution": {
     "iopub.execute_input": "2023-12-10T00:24:23.027885Z",
     "iopub.status.busy": "2023-12-10T00:24:23.027529Z",
     "iopub.status.idle": "2023-12-10T00:24:23.032770Z",
     "shell.execute_reply": "2023-12-10T00:24:23.031729Z"
    },
    "papermill": {
     "duration": 0.018025,
     "end_time": "2023-12-10T00:24:23.034849",
     "exception": false,
     "start_time": "2023-12-10T00:24:23.016824",
     "status": "completed"
    },
    "tags": []
   },
   "outputs": [
    {
     "name": "stdout",
     "output_type": "stream",
     "text": [
      "2.12.0\n"
     ]
    }
   ],
   "source": [
    "import tensorflow as tf\n",
    "print(tf.__version__)"
   ]
  },
  {
   "cell_type": "code",
   "execution_count": 5,
   "id": "cc737db5",
   "metadata": {
    "execution": {
     "iopub.execute_input": "2023-12-10T00:24:23.055609Z",
     "iopub.status.busy": "2023-12-10T00:24:23.054823Z",
     "iopub.status.idle": "2023-12-10T00:24:23.219672Z",
     "shell.execute_reply": "2023-12-10T00:24:23.218626Z"
    },
    "papermill": {
     "duration": 0.177753,
     "end_time": "2023-12-10T00:24:23.222068",
     "exception": false,
     "start_time": "2023-12-10T00:24:23.044315",
     "status": "completed"
    },
    "tags": []
   },
   "outputs": [],
   "source": [
    "import transformers\n"
   ]
  },
  {
   "cell_type": "code",
   "execution_count": 6,
   "id": "370f7847",
   "metadata": {
    "execution": {
     "iopub.execute_input": "2023-12-10T00:24:23.243275Z",
     "iopub.status.busy": "2023-12-10T00:24:23.242447Z",
     "iopub.status.idle": "2023-12-10T00:24:23.247255Z",
     "shell.execute_reply": "2023-12-10T00:24:23.246584Z"
    },
    "papermill": {
     "duration": 0.017253,
     "end_time": "2023-12-10T00:24:23.249113",
     "exception": false,
     "start_time": "2023-12-10T00:24:23.231860",
     "status": "completed"
    },
    "tags": []
   },
   "outputs": [],
   "source": [
    "tqdm.pandas()"
   ]
  },
  {
   "cell_type": "code",
   "execution_count": 7,
   "id": "d7855e68",
   "metadata": {
    "execution": {
     "iopub.execute_input": "2023-12-10T00:24:23.268963Z",
     "iopub.status.busy": "2023-12-10T00:24:23.268717Z",
     "iopub.status.idle": "2023-12-10T00:24:34.934860Z",
     "shell.execute_reply": "2023-12-10T00:24:34.933603Z"
    },
    "papermill": {
     "duration": 11.678541,
     "end_time": "2023-12-10T00:24:34.937142",
     "exception": false,
     "start_time": "2023-12-10T00:24:23.258601",
     "status": "completed"
    },
    "tags": []
   },
   "outputs": [
    {
     "name": "stdout",
     "output_type": "stream",
     "text": [
      "Collecting contractions\r\n",
      "  Downloading contractions-0.1.73-py2.py3-none-any.whl (8.7 kB)\r\n",
      "Collecting textsearch>=0.0.21 (from contractions)\r\n",
      "  Downloading textsearch-0.0.24-py2.py3-none-any.whl (7.6 kB)\r\n",
      "Collecting anyascii (from textsearch>=0.0.21->contractions)\r\n",
      "  Downloading anyascii-0.3.2-py3-none-any.whl (289 kB)\r\n",
      "\u001b[2K     \u001b[90m━━━━━━━━━━━━━━━━━━━━━━━━━━━━━━━━━━━━━━━\u001b[0m \u001b[32m289.9/289.9 kB\u001b[0m \u001b[31m9.4 MB/s\u001b[0m eta \u001b[36m0:00:00\u001b[0m\r\n",
      "\u001b[?25hCollecting pyahocorasick (from textsearch>=0.0.21->contractions)\r\n",
      "  Downloading pyahocorasick-2.0.0-cp310-cp310-manylinux_2_5_x86_64.manylinux1_x86_64.manylinux_2_12_x86_64.manylinux2010_x86_64.whl (110 kB)\r\n",
      "\u001b[2K     \u001b[90m━━━━━━━━━━━━━━━━━━━━━━━━━━━━━━━━━━━━━━\u001b[0m \u001b[32m110.8/110.8 kB\u001b[0m \u001b[31m11.8 MB/s\u001b[0m eta \u001b[36m0:00:00\u001b[0m\r\n",
      "\u001b[?25hInstalling collected packages: pyahocorasick, anyascii, textsearch, contractions\r\n",
      "Successfully installed anyascii-0.3.2 contractions-0.1.73 pyahocorasick-2.0.0 textsearch-0.0.24\r\n",
      "Note: you may need to restart the kernel to use updated packages.\n"
     ]
    }
   ],
   "source": [
    "pip install contractions"
   ]
  },
  {
   "cell_type": "code",
   "execution_count": 8,
   "id": "be9cc0df",
   "metadata": {
    "execution": {
     "iopub.execute_input": "2023-12-10T00:24:34.959401Z",
     "iopub.status.busy": "2023-12-10T00:24:34.959039Z",
     "iopub.status.idle": "2023-12-10T00:24:46.028405Z",
     "shell.execute_reply": "2023-12-10T00:24:46.027172Z"
    },
    "papermill": {
     "duration": 11.082921,
     "end_time": "2023-12-10T00:24:46.030641",
     "exception": false,
     "start_time": "2023-12-10T00:24:34.947720",
     "status": "completed"
    },
    "tags": []
   },
   "outputs": [
    {
     "name": "stdout",
     "output_type": "stream",
     "text": [
      "Collecting cleantext\r\n",
      "  Downloading cleantext-1.1.4-py3-none-any.whl (4.9 kB)\r\n",
      "Requirement already satisfied: nltk in /opt/conda/lib/python3.10/site-packages (from cleantext) (3.2.4)\r\n",
      "Requirement already satisfied: six in /opt/conda/lib/python3.10/site-packages (from nltk->cleantext) (1.16.0)\r\n",
      "Installing collected packages: cleantext\r\n",
      "Successfully installed cleantext-1.1.4\r\n",
      "Note: you may need to restart the kernel to use updated packages.\n"
     ]
    }
   ],
   "source": [
    "pip install cleantext"
   ]
  },
  {
   "cell_type": "code",
   "execution_count": 9,
   "id": "1f58a5a4",
   "metadata": {
    "execution": {
     "iopub.execute_input": "2023-12-10T00:24:46.053679Z",
     "iopub.status.busy": "2023-12-10T00:24:46.053314Z",
     "iopub.status.idle": "2023-12-10T00:24:46.846663Z",
     "shell.execute_reply": "2023-12-10T00:24:46.845775Z"
    },
    "papermill": {
     "duration": 0.80761,
     "end_time": "2023-12-10T00:24:46.849012",
     "exception": false,
     "start_time": "2023-12-10T00:24:46.041402",
     "status": "completed"
    },
    "tags": []
   },
   "outputs": [],
   "source": [
    "import cleantext\n",
    "import contractions"
   ]
  },
  {
   "cell_type": "code",
   "execution_count": 10,
   "id": "4c28fcdd",
   "metadata": {
    "execution": {
     "iopub.execute_input": "2023-12-10T00:24:46.872054Z",
     "iopub.status.busy": "2023-12-10T00:24:46.871742Z",
     "iopub.status.idle": "2023-12-10T00:24:47.328375Z",
     "shell.execute_reply": "2023-12-10T00:24:47.327431Z"
    },
    "papermill": {
     "duration": 0.470682,
     "end_time": "2023-12-10T00:24:47.330557",
     "exception": false,
     "start_time": "2023-12-10T00:24:46.859875",
     "status": "completed"
    },
    "tags": []
   },
   "outputs": [
    {
     "data": {
      "text/html": [
       "<div>\n",
       "<style scoped>\n",
       "    .dataframe tbody tr th:only-of-type {\n",
       "        vertical-align: middle;\n",
       "    }\n",
       "\n",
       "    .dataframe tbody tr th {\n",
       "        vertical-align: top;\n",
       "    }\n",
       "\n",
       "    .dataframe thead th {\n",
       "        text-align: right;\n",
       "    }\n",
       "</style>\n",
       "<table border=\"1\" class=\"dataframe\">\n",
       "  <thead>\n",
       "    <tr style=\"text-align: right;\">\n",
       "      <th></th>\n",
       "      <th>Unnamed: 0</th>\n",
       "      <th>comment_id</th>\n",
       "      <th>comment_parent_id</th>\n",
       "      <th>comment_body</th>\n",
       "      <th>subreddit</th>\n",
       "    </tr>\n",
       "  </thead>\n",
       "  <tbody>\n",
       "    <tr>\n",
       "      <th>0</th>\n",
       "      <td>0</td>\n",
       "      <td>iztdxuh</td>\n",
       "      <td>t3_zj2aeu</td>\n",
       "      <td>I've been shocked for days now, I don't need c...</td>\n",
       "      <td>r/ChatGPT</td>\n",
       "    </tr>\n",
       "    <tr>\n",
       "      <th>1</th>\n",
       "      <td>1</td>\n",
       "      <td>iztn0q0</td>\n",
       "      <td>t3_zj2aeu</td>\n",
       "      <td>\\n\\nI am so angry right now. I just wasted my...</td>\n",
       "      <td>r/ChatGPT</td>\n",
       "    </tr>\n",
       "    <tr>\n",
       "      <th>2</th>\n",
       "      <td>2</td>\n",
       "      <td>izudrph</td>\n",
       "      <td>t3_zj2aeu</td>\n",
       "      <td>chatgpt karma whoring is here folks! just when...</td>\n",
       "      <td>r/ChatGPT</td>\n",
       "    </tr>\n",
       "    <tr>\n",
       "      <th>3</th>\n",
       "      <td>3</td>\n",
       "      <td>iztfhtb</td>\n",
       "      <td>t3_zj2aeu</td>\n",
       "      <td>Worked on me, ngl.</td>\n",
       "      <td>r/ChatGPT</td>\n",
       "    </tr>\n",
       "    <tr>\n",
       "      <th>4</th>\n",
       "      <td>4</td>\n",
       "      <td>izu2as9</td>\n",
       "      <td>t3_zj2aeu</td>\n",
       "      <td>Certified 10/10, must-see moment. It really di...</td>\n",
       "      <td>r/ChatGPT</td>\n",
       "    </tr>\n",
       "  </tbody>\n",
       "</table>\n",
       "</div>"
      ],
      "text/plain": [
       "  Unnamed: 0 comment_id comment_parent_id  \\\n",
       "0          0    iztdxuh         t3_zj2aeu   \n",
       "1          1    iztn0q0         t3_zj2aeu   \n",
       "2          2    izudrph         t3_zj2aeu   \n",
       "3          3    iztfhtb         t3_zj2aeu   \n",
       "4          4    izu2as9         t3_zj2aeu   \n",
       "\n",
       "                                        comment_body  subreddit  \n",
       "0  I've been shocked for days now, I don't need c...  r/ChatGPT  \n",
       "1   \\n\\nI am so angry right now. I just wasted my...  r/ChatGPT  \n",
       "2  chatgpt karma whoring is here folks! just when...  r/ChatGPT  \n",
       "3                                 Worked on me, ngl.  r/ChatGPT  \n",
       "4  Certified 10/10, must-see moment. It really di...  r/ChatGPT  "
      ]
     },
     "execution_count": 10,
     "metadata": {},
     "output_type": "execute_result"
    }
   ],
   "source": [
    "data = pd.read_csv('/kaggle/input/chatgpt-reddit/chatgpt-reddit-comments.csv')\n",
    "data.head()"
   ]
  },
  {
   "cell_type": "code",
   "execution_count": 11,
   "id": "cd26be1f",
   "metadata": {
    "execution": {
     "iopub.execute_input": "2023-12-10T00:24:47.354068Z",
     "iopub.status.busy": "2023-12-10T00:24:47.353752Z",
     "iopub.status.idle": "2023-12-10T00:24:47.439690Z",
     "shell.execute_reply": "2023-12-10T00:24:47.438714Z"
    },
    "papermill": {
     "duration": 0.09987,
     "end_time": "2023-12-10T00:24:47.441801",
     "exception": false,
     "start_time": "2023-12-10T00:24:47.341931",
     "status": "completed"
    },
    "tags": []
   },
   "outputs": [],
   "source": [
    "data.dropna(inplace= True)"
   ]
  },
  {
   "cell_type": "code",
   "execution_count": 12,
   "id": "48e82faa",
   "metadata": {
    "execution": {
     "iopub.execute_input": "2023-12-10T00:24:47.465865Z",
     "iopub.status.busy": "2023-12-10T00:24:47.465562Z",
     "iopub.status.idle": "2023-12-10T00:24:47.823610Z",
     "shell.execute_reply": "2023-12-10T00:24:47.822683Z"
    },
    "papermill": {
     "duration": 0.371829,
     "end_time": "2023-12-10T00:24:47.825820",
     "exception": false,
     "start_time": "2023-12-10T00:24:47.453991",
     "status": "completed"
    },
    "tags": []
   },
   "outputs": [
    {
     "data": {
      "text/plain": [
       "<Axes: title={'center': 'number of values in each category'}>"
      ]
     },
     "execution_count": 12,
     "metadata": {},
     "output_type": "execute_result"
    },
    {
     "data": {
      "image/png": "[encoded data removed]",
      "text/plain": [
       "<Figure size 640x480 with 1 Axes>"
      ]
     },
     "metadata": {},
     "output_type": "display_data"
    }
   ],
   "source": [
    "data['subreddit'].apply(lambda x: x.split('/')[1]).value_counts().plot.bar(color= 'lightcoral', title= 'number of values in each category')"
   ]
  },
  {
   "cell_type": "code",
   "execution_count": 13,
   "id": "6f75c715",
   "metadata": {
    "execution": {
     "iopub.execute_input": "2023-12-10T00:24:47.850081Z",
     "iopub.status.busy": "2023-12-10T00:24:47.849771Z",
     "iopub.status.idle": "2023-12-10T00:24:48.020938Z",
     "shell.execute_reply": "2023-12-10T00:24:48.020127Z"
    },
    "papermill": {
     "duration": 0.185766,
     "end_time": "2023-12-10T00:24:48.023284",
     "exception": false,
     "start_time": "2023-12-10T00:24:47.837518",
     "status": "completed"
    },
    "tags": []
   },
   "outputs": [],
   "source": [
    "data['comment_len'] = data['comment_body'].apply(lambda x : len(str(x).split(\" \")))"
   ]
  },
  {
   "cell_type": "code",
   "execution_count": 14,
   "id": "d904263d",
   "metadata": {
    "execution": {
     "iopub.execute_input": "2023-12-10T00:24:48.047503Z",
     "iopub.status.busy": "2023-12-10T00:24:48.047200Z",
     "iopub.status.idle": "2023-12-10T00:24:48.064702Z",
     "shell.execute_reply": "2023-12-10T00:24:48.063843Z"
    },
    "papermill": {
     "duration": 0.031474,
     "end_time": "2023-12-10T00:24:48.066519",
     "exception": false,
     "start_time": "2023-12-10T00:24:48.035045",
     "status": "completed"
    },
    "tags": []
   },
   "outputs": [
    {
     "data": {
      "text/html": [
       "<div>\n",
       "<style scoped>\n",
       "    .dataframe tbody tr th:only-of-type {\n",
       "        vertical-align: middle;\n",
       "    }\n",
       "\n",
       "    .dataframe tbody tr th {\n",
       "        vertical-align: top;\n",
       "    }\n",
       "\n",
       "    .dataframe thead th {\n",
       "        text-align: right;\n",
       "    }\n",
       "</style>\n",
       "<table border=\"1\" class=\"dataframe\">\n",
       "  <thead>\n",
       "    <tr style=\"text-align: right;\">\n",
       "      <th></th>\n",
       "      <th>comment_len</th>\n",
       "    </tr>\n",
       "  </thead>\n",
       "  <tbody>\n",
       "    <tr>\n",
       "      <th>count</th>\n",
       "      <td>52412.000000</td>\n",
       "    </tr>\n",
       "    <tr>\n",
       "      <th>mean</th>\n",
       "      <td>39.535946</td>\n",
       "    </tr>\n",
       "    <tr>\n",
       "      <th>std</th>\n",
       "      <td>61.936188</td>\n",
       "    </tr>\n",
       "    <tr>\n",
       "      <th>min</th>\n",
       "      <td>1.000000</td>\n",
       "    </tr>\n",
       "    <tr>\n",
       "      <th>25%</th>\n",
       "      <td>9.000000</td>\n",
       "    </tr>\n",
       "    <tr>\n",
       "      <th>50%</th>\n",
       "      <td>21.000000</td>\n",
       "    </tr>\n",
       "    <tr>\n",
       "      <th>75%</th>\n",
       "      <td>45.250000</td>\n",
       "    </tr>\n",
       "    <tr>\n",
       "      <th>max</th>\n",
       "      <td>1415.000000</td>\n",
       "    </tr>\n",
       "  </tbody>\n",
       "</table>\n",
       "</div>"
      ],
      "text/plain": [
       "        comment_len\n",
       "count  52412.000000\n",
       "mean      39.535946\n",
       "std       61.936188\n",
       "min        1.000000\n",
       "25%        9.000000\n",
       "50%       21.000000\n",
       "75%       45.250000\n",
       "max     1415.000000"
      ]
     },
     "execution_count": 14,
     "metadata": {},
     "output_type": "execute_result"
    }
   ],
   "source": [
    "data.describe()"
   ]
  },
  {
   "cell_type": "markdown",
   "id": "beb7f522",
   "metadata": {
    "papermill": {
     "duration": 0.011225,
     "end_time": "2023-12-10T00:24:48.089111",
     "exception": false,
     "start_time": "2023-12-10T00:24:48.077886",
     "status": "completed"
    },
    "tags": []
   },
   "source": [
    "# <span style=\"font-family:Times\"><span style=\"font-size:1em\">Cleaning Data</span>"
   ]
  },
  {
   "cell_type": "code",
   "execution_count": 15,
   "id": "df4b804e",
   "metadata": {
    "execution": {
     "iopub.execute_input": "2023-12-10T00:24:48.112849Z",
     "iopub.status.busy": "2023-12-10T00:24:48.112590Z",
     "iopub.status.idle": "2023-12-10T00:24:49.617088Z",
     "shell.execute_reply": "2023-12-10T00:24:49.616279Z"
    },
    "papermill": {
     "duration": 1.518877,
     "end_time": "2023-12-10T00:24:49.619358",
     "exception": false,
     "start_time": "2023-12-10T00:24:48.100481",
     "status": "completed"
    },
    "tags": []
   },
   "outputs": [],
   "source": [
    "#Fixes contractions such as `you're` to you `are`\n",
    "data['comment_body_clean']= data['comment_body'].apply(lambda x: contractions.fix(x))"
   ]
  },
  {
   "cell_type": "code",
   "execution_count": 16,
   "id": "f29ccf48",
   "metadata": {
    "execution": {
     "iopub.execute_input": "2023-12-10T00:24:49.644515Z",
     "iopub.status.busy": "2023-12-10T00:24:49.643944Z",
     "iopub.status.idle": "2023-12-10T00:25:09.214783Z",
     "shell.execute_reply": "2023-12-10T00:25:09.213803Z"
    },
    "papermill": {
     "duration": 19.586074,
     "end_time": "2023-12-10T00:25:09.217186",
     "exception": false,
     "start_time": "2023-12-10T00:24:49.631112",
     "status": "completed"
    },
    "tags": []
   },
   "outputs": [],
   "source": [
    "# remove urls\n",
    "# data['comment_body_clean']= data['comment_body_clean'].apply(lambda x : re.sub(\"(http\\S+)\", \"\", x))\n",
    "# remove email addresses\n",
    "# data['comment_body_clean']= data['comment_body_clean'].apply(lambda x : re.sub(\"([\\w\\.\\-\\_]+@[\\w\\.\\-\\_]+)\", \"\", x))\n",
    "# # Remove newline characters\n",
    "# data['comment_body_clean']= data['comment_body_clean'].apply(lambda x : re.sub(\"(\\n+)\", \"\", x))\n",
    "\n",
    "data['comment_body_clean']= data['comment_body_clean'].apply(lambda x : cleantext.clean(x, extra_spaces=True, stopwords= True, \n",
    "                                                            lowercase= True, punct= True, numbers=True, stp_lang='english',\n",
    "                                                            reg=r'(http\\S+)', reg_replace='', clean_all=False))"
   ]
  },
  {
   "cell_type": "code",
   "execution_count": 17,
   "id": "3d157c06",
   "metadata": {
    "execution": {
     "iopub.execute_input": "2023-12-10T00:25:09.242372Z",
     "iopub.status.busy": "2023-12-10T00:25:09.241603Z",
     "iopub.status.idle": "2023-12-10T00:25:09.249421Z",
     "shell.execute_reply": "2023-12-10T00:25:09.248586Z"
    },
    "papermill": {
     "duration": 0.022453,
     "end_time": "2023-12-10T00:25:09.251424",
     "exception": false,
     "start_time": "2023-12-10T00:25:09.228971",
     "status": "completed"
    },
    "tags": []
   },
   "outputs": [],
   "source": [
    "data['comment_body_clean'].replace('', np.nan, inplace=True)"
   ]
  },
  {
   "cell_type": "code",
   "execution_count": 18,
   "id": "2180e68a",
   "metadata": {
    "execution": {
     "iopub.execute_input": "2023-12-10T00:25:09.275937Z",
     "iopub.status.busy": "2023-12-10T00:25:09.275339Z",
     "iopub.status.idle": "2023-12-10T00:25:09.316604Z",
     "shell.execute_reply": "2023-12-10T00:25:09.315820Z"
    },
    "papermill": {
     "duration": 0.055977,
     "end_time": "2023-12-10T00:25:09.318945",
     "exception": false,
     "start_time": "2023-12-10T00:25:09.262968",
     "status": "completed"
    },
    "tags": []
   },
   "outputs": [],
   "source": [
    "data.dropna(subset = ['comment_body_clean'], inplace=True)"
   ]
  },
  {
   "cell_type": "code",
   "execution_count": 19,
   "id": "c1e400dd",
   "metadata": {
    "execution": {
     "iopub.execute_input": "2023-12-10T00:25:09.344164Z",
     "iopub.status.busy": "2023-12-10T00:25:09.343629Z",
     "iopub.status.idle": "2023-12-10T00:25:09.449866Z",
     "shell.execute_reply": "2023-12-10T00:25:09.449166Z"
    },
    "papermill": {
     "duration": 0.121,
     "end_time": "2023-12-10T00:25:09.451727",
     "exception": false,
     "start_time": "2023-12-10T00:25:09.330727",
     "status": "completed"
    },
    "tags": []
   },
   "outputs": [],
   "source": [
    "data['comment_len_clean'] = data['comment_body_clean'].apply(lambda x : len(str(x).split(\" \")))"
   ]
  },
  {
   "cell_type": "code",
   "execution_count": 20,
   "id": "abe73d99",
   "metadata": {
    "execution": {
     "iopub.execute_input": "2023-12-10T00:25:09.475589Z",
     "iopub.status.busy": "2023-12-10T00:25:09.475289Z",
     "iopub.status.idle": "2023-12-10T00:25:09.490236Z",
     "shell.execute_reply": "2023-12-10T00:25:09.489475Z"
    },
    "papermill": {
     "duration": 0.028872,
     "end_time": "2023-12-10T00:25:09.492180",
     "exception": false,
     "start_time": "2023-12-10T00:25:09.463308",
     "status": "completed"
    },
    "tags": []
   },
   "outputs": [
    {
     "data": {
      "text/html": [
       "<div>\n",
       "<style scoped>\n",
       "    .dataframe tbody tr th:only-of-type {\n",
       "        vertical-align: middle;\n",
       "    }\n",
       "\n",
       "    .dataframe tbody tr th {\n",
       "        vertical-align: top;\n",
       "    }\n",
       "\n",
       "    .dataframe thead th {\n",
       "        text-align: right;\n",
       "    }\n",
       "</style>\n",
       "<table border=\"1\" class=\"dataframe\">\n",
       "  <thead>\n",
       "    <tr style=\"text-align: right;\">\n",
       "      <th></th>\n",
       "      <th>Unnamed: 0</th>\n",
       "      <th>comment_id</th>\n",
       "      <th>comment_parent_id</th>\n",
       "      <th>comment_body</th>\n",
       "      <th>subreddit</th>\n",
       "      <th>comment_len</th>\n",
       "      <th>comment_body_clean</th>\n",
       "      <th>comment_len_clean</th>\n",
       "    </tr>\n",
       "  </thead>\n",
       "  <tbody>\n",
       "    <tr>\n",
       "      <th>0</th>\n",
       "      <td>0</td>\n",
       "      <td>iztdxuh</td>\n",
       "      <td>t3_zj2aeu</td>\n",
       "      <td>I've been shocked for days now, I don't need c...</td>\n",
       "      <td>r/ChatGPT</td>\n",
       "      <td>10</td>\n",
       "      <td>shocked days need clickbait</td>\n",
       "      <td>4</td>\n",
       "    </tr>\n",
       "    <tr>\n",
       "      <th>1</th>\n",
       "      <td>1</td>\n",
       "      <td>iztn0q0</td>\n",
       "      <td>t3_zj2aeu</td>\n",
       "      <td>\\n\\nI am so angry right now. I just wasted my...</td>\n",
       "      <td>r/ChatGPT</td>\n",
       "      <td>229</td>\n",
       "      <td>angry right wasted time reading post sub click...</td>\n",
       "      <td>89</td>\n",
       "    </tr>\n",
       "    <tr>\n",
       "      <th>2</th>\n",
       "      <td>2</td>\n",
       "      <td>izudrph</td>\n",
       "      <td>t3_zj2aeu</td>\n",
       "      <td>chatgpt karma whoring is here folks! just when...</td>\n",
       "      <td>r/ChatGPT</td>\n",
       "      <td>23</td>\n",
       "      <td>chatgpt karma whoring folks think stream thoug...</td>\n",
       "      <td>12</td>\n",
       "    </tr>\n",
       "    <tr>\n",
       "      <th>3</th>\n",
       "      <td>3</td>\n",
       "      <td>iztfhtb</td>\n",
       "      <td>t3_zj2aeu</td>\n",
       "      <td>Worked on me, ngl.</td>\n",
       "      <td>r/ChatGPT</td>\n",
       "      <td>4</td>\n",
       "      <td>worked ngl</td>\n",
       "      <td>2</td>\n",
       "    </tr>\n",
       "    <tr>\n",
       "      <th>4</th>\n",
       "      <td>4</td>\n",
       "      <td>izu2as9</td>\n",
       "      <td>t3_zj2aeu</td>\n",
       "      <td>Certified 10/10, must-see moment. It really di...</td>\n",
       "      <td>r/ChatGPT</td>\n",
       "      <td>12</td>\n",
       "      <td>certified mustsee moment really shock core</td>\n",
       "      <td>6</td>\n",
       "    </tr>\n",
       "    <tr>\n",
       "      <th>...</th>\n",
       "      <td>...</td>\n",
       "      <td>...</td>\n",
       "      <td>...</td>\n",
       "      <td>...</td>\n",
       "      <td>...</td>\n",
       "      <td>...</td>\n",
       "      <td>...</td>\n",
       "      <td>...</td>\n",
       "    </tr>\n",
       "    <tr>\n",
       "      <th>52410</th>\n",
       "      <td>16667</td>\n",
       "      <td>j4lbiix</td>\n",
       "      <td>t1_j4kgcac</td>\n",
       "      <td>Scary thing is, in this future text won’t be t...</td>\n",
       "      <td>r/technology</td>\n",
       "      <td>41</td>\n",
       "      <td>scary thing future text trustworthy either cas...</td>\n",
       "      <td>20</td>\n",
       "    </tr>\n",
       "    <tr>\n",
       "      <th>52411</th>\n",
       "      <td>16668</td>\n",
       "      <td>j5m0v6m</td>\n",
       "      <td>t3_10jmvpj</td>\n",
       "      <td>Read the T.O.S., you'll thank me later</td>\n",
       "      <td>r/technology</td>\n",
       "      <td>7</td>\n",
       "      <td>read tos thank later</td>\n",
       "      <td>4</td>\n",
       "    </tr>\n",
       "    <tr>\n",
       "      <th>52412</th>\n",
       "      <td>16669</td>\n",
       "      <td>j5m6aj0</td>\n",
       "      <td>t1_j5m0v6m</td>\n",
       "      <td>What am I missing here... https://openai.com/t...</td>\n",
       "      <td>r/technology</td>\n",
       "      <td>6</td>\n",
       "      <td>missing</td>\n",
       "      <td>1</td>\n",
       "    </tr>\n",
       "    <tr>\n",
       "      <th>52413</th>\n",
       "      <td>16670</td>\n",
       "      <td>j5nylax</td>\n",
       "      <td>t1_j5m0v6m</td>\n",
       "      <td>What does ChatGTP think of its own TOS?</td>\n",
       "      <td>r/technology</td>\n",
       "      <td>8</td>\n",
       "      <td>chatgtp think tos</td>\n",
       "      <td>3</td>\n",
       "    </tr>\n",
       "    <tr>\n",
       "      <th>52414</th>\n",
       "      <td>16671</td>\n",
       "      <td>j5mwpdr</td>\n",
       "      <td>t1_j5m6aj0</td>\n",
       "      <td>Don't know what they're referring to in the TO...</td>\n",
       "      <td>r/technology</td>\n",
       "      <td>20</td>\n",
       "      <td>know referring tos sections seem noteworthy c ...</td>\n",
       "      <td>10</td>\n",
       "    </tr>\n",
       "  </tbody>\n",
       "</table>\n",
       "<p>51983 rows × 8 columns</p>\n",
       "</div>"
      ],
      "text/plain": [
       "      Unnamed: 0 comment_id comment_parent_id  \\\n",
       "0              0    iztdxuh         t3_zj2aeu   \n",
       "1              1    iztn0q0         t3_zj2aeu   \n",
       "2              2    izudrph         t3_zj2aeu   \n",
       "3              3    iztfhtb         t3_zj2aeu   \n",
       "4              4    izu2as9         t3_zj2aeu   \n",
       "...          ...        ...               ...   \n",
       "52410      16667    j4lbiix        t1_j4kgcac   \n",
       "52411      16668    j5m0v6m        t3_10jmvpj   \n",
       "52412      16669    j5m6aj0        t1_j5m0v6m   \n",
       "52413      16670    j5nylax        t1_j5m0v6m   \n",
       "52414      16671    j5mwpdr        t1_j5m6aj0   \n",
       "\n",
       "                                            comment_body     subreddit  \\\n",
       "0      I've been shocked for days now, I don't need c...     r/ChatGPT   \n",
       "1       \\n\\nI am so angry right now. I just wasted my...     r/ChatGPT   \n",
       "2      chatgpt karma whoring is here folks! just when...     r/ChatGPT   \n",
       "3                                     Worked on me, ngl.     r/ChatGPT   \n",
       "4      Certified 10/10, must-see moment. It really di...     r/ChatGPT   \n",
       "...                                                  ...           ...   \n",
       "52410  Scary thing is, in this future text won’t be t...  r/technology   \n",
       "52411             Read the T.O.S., you'll thank me later  r/technology   \n",
       "52412  What am I missing here... https://openai.com/t...  r/technology   \n",
       "52413            What does ChatGTP think of its own TOS?  r/technology   \n",
       "52414  Don't know what they're referring to in the TO...  r/technology   \n",
       "\n",
       "       comment_len                                 comment_body_clean  \\\n",
       "0               10                        shocked days need clickbait   \n",
       "1              229  angry right wasted time reading post sub click...   \n",
       "2               23  chatgpt karma whoring folks think stream thoug...   \n",
       "3                4                                         worked ngl   \n",
       "4               12         certified mustsee moment really shock core   \n",
       "...            ...                                                ...   \n",
       "52410           41  scary thing future text trustworthy either cas...   \n",
       "52411            7                               read tos thank later   \n",
       "52412            6                                            missing   \n",
       "52413            8                                  chatgtp think tos   \n",
       "52414           20  know referring tos sections seem noteworthy c ...   \n",
       "\n",
       "       comment_len_clean  \n",
       "0                      4  \n",
       "1                     89  \n",
       "2                     12  \n",
       "3                      2  \n",
       "4                      6  \n",
       "...                  ...  \n",
       "52410                 20  \n",
       "52411                  4  \n",
       "52412                  1  \n",
       "52413                  3  \n",
       "52414                 10  \n",
       "\n",
       "[51983 rows x 8 columns]"
      ]
     },
     "execution_count": 20,
     "metadata": {},
     "output_type": "execute_result"
    }
   ],
   "source": [
    "data"
   ]
  },
  {
   "cell_type": "markdown",
   "id": "84cbacf7",
   "metadata": {
    "papermill": {
     "duration": 0.011365,
     "end_time": "2023-12-10T00:25:09.515278",
     "exception": false,
     "start_time": "2023-12-10T00:25:09.503913",
     "status": "completed"
    },
    "tags": []
   },
   "source": [
    "# <span style=\"font-family:Times\"><span style=\"font-size:1em\">Pre-Processing</span>"
   ]
  },
  {
   "cell_type": "code",
   "execution_count": 21,
   "id": "d461c9a4",
   "metadata": {
    "execution": {
     "iopub.execute_input": "2023-12-10T00:25:09.539529Z",
     "iopub.status.busy": "2023-12-10T00:25:09.539262Z",
     "iopub.status.idle": "2023-12-10T00:25:25.484782Z",
     "shell.execute_reply": "2023-12-10T00:25:25.483805Z"
    },
    "papermill": {
     "duration": 15.959948,
     "end_time": "2023-12-10T00:25:25.486817",
     "exception": false,
     "start_time": "2023-12-10T00:25:09.526869",
     "status": "completed"
    },
    "tags": []
   },
   "outputs": [
    {
     "data": {
      "application/vnd.jupyter.widget-view+json": {
       "model_id": "f6b29081404e4c0fb243f5746a53b005",
       "version_major": 2,
       "version_minor": 0
      },
      "text/plain": [
       "Downloading vocab.txt:   0%|          | 0.00/232k [00:00<?, ?B/s]"
      ]
     },
     "metadata": {},
     "output_type": "display_data"
    },
    {
     "data": {
      "application/vnd.jupyter.widget-view+json": {
       "model_id": "777e87bfcacb4e2a8a0889543796078f",
       "version_major": 2,
       "version_minor": 0
      },
      "text/plain": [
       "Downloading tokenizer_config.json:   0%|          | 0.00/28.0 [00:00<?, ?B/s]"
      ]
     },
     "metadata": {},
     "output_type": "display_data"
    },
    {
     "data": {
      "application/vnd.jupyter.widget-view+json": {
       "model_id": "7d17e6b3e0b1461e83f55a6a156f8423",
       "version_major": 2,
       "version_minor": 0
      },
      "text/plain": [
       "Downloading config.json:   0%|          | 0.00/570 [00:00<?, ?B/s]"
      ]
     },
     "metadata": {},
     "output_type": "display_data"
    },
    {
     "data": {
      "application/vnd.jupyter.widget-view+json": {
       "model_id": "45011340ed284c6db03370aaad0f34bd",
       "version_major": 2,
       "version_minor": 0
      },
      "text/plain": [
       "Downloading model.safetensors:   0%|          | 0.00/440M [00:00<?, ?B/s]"
      ]
     },
     "metadata": {},
     "output_type": "display_data"
    },
    {
     "name": "stderr",
     "output_type": "stream",
     "text": [
      "Some weights of the PyTorch model were not used when initializing the TF 2.0 model TFBertModel: ['cls.seq_relationship.weight', 'cls.seq_relationship.bias', 'cls.predictions.transform.LayerNorm.weight', 'cls.predictions.bias', 'cls.predictions.transform.LayerNorm.bias', 'cls.predictions.transform.dense.weight', 'cls.predictions.transform.dense.bias']\n",
      "- This IS expected if you are initializing TFBertModel from a PyTorch model trained on another task or with another architecture (e.g. initializing a TFBertForSequenceClassification model from a BertForPreTraining model).\n",
      "- This IS NOT expected if you are initializing TFBertModel from a PyTorch model that you expect to be exactly identical (e.g. initializing a TFBertForSequenceClassification model from a BertForSequenceClassification model).\n",
      "All the weights of TFBertModel were initialized from the PyTorch model.\n",
      "If your task is similar to the task the model of the checkpoint was trained on, you can already use TFBertModel for predictions without further training.\n"
     ]
    }
   ],
   "source": [
    "tokenizer = transformers.BertTokenizer.from_pretrained('bert-base-uncased', do_lower_case= True)\n",
    "model = transformers.TFBertModel.from_pretrained('bert-base-uncased')"
   ]
  },
  {
   "cell_type": "code",
   "execution_count": 22,
   "id": "74153c4b",
   "metadata": {
    "execution": {
     "iopub.execute_input": "2023-12-10T00:25:25.514704Z",
     "iopub.status.busy": "2023-12-10T00:25:25.514297Z",
     "iopub.status.idle": "2023-12-10T00:26:18.708969Z",
     "shell.execute_reply": "2023-12-10T00:26:18.708023Z"
    },
    "papermill": {
     "duration": 53.211077,
     "end_time": "2023-12-10T00:26:18.710969",
     "exception": false,
     "start_time": "2023-12-10T00:25:25.499892",
     "status": "completed"
    },
    "tags": []
   },
   "outputs": [
    {
     "data": {
      "application/vnd.jupyter.widget-view+json": {
       "model_id": "dccfa6867cff4db6a6c5f20ea0f8d387",
       "version_major": 2,
       "version_minor": 0
      },
      "text/plain": [
       "  0%|          | 0/51983 [00:00<?, ?it/s]"
      ]
     },
     "metadata": {},
     "output_type": "display_data"
    }
   ],
   "source": [
    "data['tokens'] = data['comment_body_clean'].progress_apply(lambda x: np.array(tokenizer.encode(x, truncation=True)))"
   ]
  },
  {
   "cell_type": "code",
   "execution_count": 23,
   "id": "68fefb4b",
   "metadata": {
    "execution": {
     "iopub.execute_input": "2023-12-10T00:26:18.738757Z",
     "iopub.status.busy": "2023-12-10T00:26:18.738161Z",
     "iopub.status.idle": "2023-12-10T00:26:18.778835Z",
     "shell.execute_reply": "2023-12-10T00:26:18.778003Z"
    },
    "papermill": {
     "duration": 0.056528,
     "end_time": "2023-12-10T00:26:18.780994",
     "exception": false,
     "start_time": "2023-12-10T00:26:18.724466",
     "status": "completed"
    },
    "tags": []
   },
   "outputs": [],
   "source": [
    "data['len_token'] = data['tokens'].apply(lambda x: len(x))"
   ]
  },
  {
   "cell_type": "code",
   "execution_count": 24,
   "id": "0440c95e",
   "metadata": {
    "execution": {
     "iopub.execute_input": "2023-12-10T00:26:18.809223Z",
     "iopub.status.busy": "2023-12-10T00:26:18.808843Z",
     "iopub.status.idle": "2023-12-10T00:26:18.831528Z",
     "shell.execute_reply": "2023-12-10T00:26:18.830585Z"
    },
    "papermill": {
     "duration": 0.0395,
     "end_time": "2023-12-10T00:26:18.833832",
     "exception": false,
     "start_time": "2023-12-10T00:26:18.794332",
     "status": "completed"
    },
    "tags": []
   },
   "outputs": [],
   "source": [
    "# removing data with fewer than 3 tokens \n",
    "df = data[data['len_token']>=3]"
   ]
  },
  {
   "cell_type": "code",
   "execution_count": 25,
   "id": "af7dac6d",
   "metadata": {
    "execution": {
     "iopub.execute_input": "2023-12-10T00:26:18.861072Z",
     "iopub.status.busy": "2023-12-10T00:26:18.860470Z",
     "iopub.status.idle": "2023-12-10T00:26:18.974910Z",
     "shell.execute_reply": "2023-12-10T00:26:18.973935Z"
    },
    "papermill": {
     "duration": 0.129915,
     "end_time": "2023-12-10T00:26:18.976796",
     "exception": false,
     "start_time": "2023-12-10T00:26:18.846881",
     "status": "completed"
    },
    "tags": []
   },
   "outputs": [
    {
     "data": {
      "text/plain": [
       "Unnamed: 0            0\n",
       "comment_id            0\n",
       "comment_parent_id     0\n",
       "comment_body          0\n",
       "subreddit             0\n",
       "comment_len           0\n",
       "comment_body_clean    0\n",
       "comment_len_clean     0\n",
       "tokens                0\n",
       "len_token             0\n",
       "dtype: int64"
      ]
     },
     "execution_count": 25,
     "metadata": {},
     "output_type": "execute_result"
    }
   ],
   "source": [
    "df.isnull().sum()"
   ]
  },
  {
   "cell_type": "code",
   "execution_count": 26,
   "id": "25fe13e7",
   "metadata": {
    "execution": {
     "iopub.execute_input": "2023-12-10T00:26:19.004683Z",
     "iopub.status.busy": "2023-12-10T00:26:19.003996Z",
     "iopub.status.idle": "2023-12-10T00:26:19.027466Z",
     "shell.execute_reply": "2023-12-10T00:26:19.026572Z"
    },
    "papermill": {
     "duration": 0.039368,
     "end_time": "2023-12-10T00:26:19.029354",
     "exception": false,
     "start_time": "2023-12-10T00:26:18.989986",
     "status": "completed"
    },
    "tags": []
   },
   "outputs": [
    {
     "data": {
      "text/html": [
       "<div>\n",
       "<style scoped>\n",
       "    .dataframe tbody tr th:only-of-type {\n",
       "        vertical-align: middle;\n",
       "    }\n",
       "\n",
       "    .dataframe tbody tr th {\n",
       "        vertical-align: top;\n",
       "    }\n",
       "\n",
       "    .dataframe thead th {\n",
       "        text-align: right;\n",
       "    }\n",
       "</style>\n",
       "<table border=\"1\" class=\"dataframe\">\n",
       "  <thead>\n",
       "    <tr style=\"text-align: right;\">\n",
       "      <th></th>\n",
       "      <th>Unnamed: 0</th>\n",
       "      <th>comment_id</th>\n",
       "      <th>comment_parent_id</th>\n",
       "      <th>comment_body</th>\n",
       "      <th>subreddit</th>\n",
       "      <th>comment_len</th>\n",
       "      <th>comment_body_clean</th>\n",
       "      <th>comment_len_clean</th>\n",
       "      <th>tokens</th>\n",
       "      <th>len_token</th>\n",
       "    </tr>\n",
       "  </thead>\n",
       "  <tbody>\n",
       "    <tr>\n",
       "      <th>0</th>\n",
       "      <td>0</td>\n",
       "      <td>iztdxuh</td>\n",
       "      <td>t3_zj2aeu</td>\n",
       "      <td>I've been shocked for days now, I don't need c...</td>\n",
       "      <td>r/ChatGPT</td>\n",
       "      <td>10</td>\n",
       "      <td>shocked days need clickbait</td>\n",
       "      <td>4</td>\n",
       "      <td>[101, 7135, 2420, 2342, 11562, 26068, 2102, 102]</td>\n",
       "      <td>8</td>\n",
       "    </tr>\n",
       "    <tr>\n",
       "      <th>1</th>\n",
       "      <td>1</td>\n",
       "      <td>iztn0q0</td>\n",
       "      <td>t3_zj2aeu</td>\n",
       "      <td>\\n\\nI am so angry right now. I just wasted my...</td>\n",
       "      <td>r/ChatGPT</td>\n",
       "      <td>229</td>\n",
       "      <td>angry right wasted time reading post sub click...</td>\n",
       "      <td>89</td>\n",
       "      <td>[101, 4854, 2157, 13842, 2051, 3752, 2695, 494...</td>\n",
       "      <td>113</td>\n",
       "    </tr>\n",
       "    <tr>\n",
       "      <th>2</th>\n",
       "      <td>2</td>\n",
       "      <td>izudrph</td>\n",
       "      <td>t3_zj2aeu</td>\n",
       "      <td>chatgpt karma whoring is here folks! just when...</td>\n",
       "      <td>r/ChatGPT</td>\n",
       "      <td>23</td>\n",
       "      <td>chatgpt karma whoring folks think stream thoug...</td>\n",
       "      <td>12</td>\n",
       "      <td>[101, 11834, 21600, 2102, 19902, 2040, 4892, 1...</td>\n",
       "      <td>17</td>\n",
       "    </tr>\n",
       "    <tr>\n",
       "      <th>3</th>\n",
       "      <td>3</td>\n",
       "      <td>iztfhtb</td>\n",
       "      <td>t3_zj2aeu</td>\n",
       "      <td>Worked on me, ngl.</td>\n",
       "      <td>r/ChatGPT</td>\n",
       "      <td>4</td>\n",
       "      <td>worked ngl</td>\n",
       "      <td>2</td>\n",
       "      <td>[101, 2499, 12835, 2140, 102]</td>\n",
       "      <td>5</td>\n",
       "    </tr>\n",
       "    <tr>\n",
       "      <th>4</th>\n",
       "      <td>4</td>\n",
       "      <td>izu2as9</td>\n",
       "      <td>t3_zj2aeu</td>\n",
       "      <td>Certified 10/10, must-see moment. It really di...</td>\n",
       "      <td>r/ChatGPT</td>\n",
       "      <td>12</td>\n",
       "      <td>certified mustsee moment really shock core</td>\n",
       "      <td>6</td>\n",
       "      <td>[101, 7378, 2442, 19763, 2617, 2428, 5213, 456...</td>\n",
       "      <td>9</td>\n",
       "    </tr>\n",
       "    <tr>\n",
       "      <th>...</th>\n",
       "      <td>...</td>\n",
       "      <td>...</td>\n",
       "      <td>...</td>\n",
       "      <td>...</td>\n",
       "      <td>...</td>\n",
       "      <td>...</td>\n",
       "      <td>...</td>\n",
       "      <td>...</td>\n",
       "      <td>...</td>\n",
       "      <td>...</td>\n",
       "    </tr>\n",
       "    <tr>\n",
       "      <th>52410</th>\n",
       "      <td>16667</td>\n",
       "      <td>j4lbiix</td>\n",
       "      <td>t1_j4kgcac</td>\n",
       "      <td>Scary thing is, in this future text won’t be t...</td>\n",
       "      <td>r/technology</td>\n",
       "      <td>41</td>\n",
       "      <td>scary thing future text trustworthy either cas...</td>\n",
       "      <td>20</td>\n",
       "      <td>[101, 12459, 2518, 2925, 3793, 3404, 13966, 25...</td>\n",
       "      <td>26</td>\n",
       "    </tr>\n",
       "    <tr>\n",
       "      <th>52411</th>\n",
       "      <td>16668</td>\n",
       "      <td>j5m0v6m</td>\n",
       "      <td>t3_10jmvpj</td>\n",
       "      <td>Read the T.O.S., you'll thank me later</td>\n",
       "      <td>r/technology</td>\n",
       "      <td>7</td>\n",
       "      <td>read tos thank later</td>\n",
       "      <td>4</td>\n",
       "      <td>[101, 3191, 2000, 2015, 4067, 2101, 102]</td>\n",
       "      <td>7</td>\n",
       "    </tr>\n",
       "    <tr>\n",
       "      <th>52412</th>\n",
       "      <td>16669</td>\n",
       "      <td>j5m6aj0</td>\n",
       "      <td>t1_j5m0v6m</td>\n",
       "      <td>What am I missing here... https://openai.com/t...</td>\n",
       "      <td>r/technology</td>\n",
       "      <td>6</td>\n",
       "      <td>missing</td>\n",
       "      <td>1</td>\n",
       "      <td>[101, 4394, 102]</td>\n",
       "      <td>3</td>\n",
       "    </tr>\n",
       "    <tr>\n",
       "      <th>52413</th>\n",
       "      <td>16670</td>\n",
       "      <td>j5nylax</td>\n",
       "      <td>t1_j5m0v6m</td>\n",
       "      <td>What does ChatGTP think of its own TOS?</td>\n",
       "      <td>r/technology</td>\n",
       "      <td>8</td>\n",
       "      <td>chatgtp think tos</td>\n",
       "      <td>3</td>\n",
       "      <td>[101, 11834, 13512, 2361, 2228, 2000, 2015, 102]</td>\n",
       "      <td>8</td>\n",
       "    </tr>\n",
       "    <tr>\n",
       "      <th>52414</th>\n",
       "      <td>16671</td>\n",
       "      <td>j5mwpdr</td>\n",
       "      <td>t1_j5m6aj0</td>\n",
       "      <td>Don't know what they're referring to in the TO...</td>\n",
       "      <td>r/technology</td>\n",
       "      <td>20</td>\n",
       "      <td>know referring tos sections seem noteworthy c ...</td>\n",
       "      <td>10</td>\n",
       "      <td>[101, 2113, 7727, 2000, 2015, 5433, 4025, 1914...</td>\n",
       "      <td>13</td>\n",
       "    </tr>\n",
       "  </tbody>\n",
       "</table>\n",
       "<p>51982 rows × 10 columns</p>\n",
       "</div>"
      ],
      "text/plain": [
       "      Unnamed: 0 comment_id comment_parent_id  \\\n",
       "0              0    iztdxuh         t3_zj2aeu   \n",
       "1              1    iztn0q0         t3_zj2aeu   \n",
       "2              2    izudrph         t3_zj2aeu   \n",
       "3              3    iztfhtb         t3_zj2aeu   \n",
       "4              4    izu2as9         t3_zj2aeu   \n",
       "...          ...        ...               ...   \n",
       "52410      16667    j4lbiix        t1_j4kgcac   \n",
       "52411      16668    j5m0v6m        t3_10jmvpj   \n",
       "52412      16669    j5m6aj0        t1_j5m0v6m   \n",
       "52413      16670    j5nylax        t1_j5m0v6m   \n",
       "52414      16671    j5mwpdr        t1_j5m6aj0   \n",
       "\n",
       "                                            comment_body     subreddit  \\\n",
       "0      I've been shocked for days now, I don't need c...     r/ChatGPT   \n",
       "1       \\n\\nI am so angry right now. I just wasted my...     r/ChatGPT   \n",
       "2      chatgpt karma whoring is here folks! just when...     r/ChatGPT   \n",
       "3                                     Worked on me, ngl.     r/ChatGPT   \n",
       "4      Certified 10/10, must-see moment. It really di...     r/ChatGPT   \n",
       "...                                                  ...           ...   \n",
       "52410  Scary thing is, in this future text won’t be t...  r/technology   \n",
       "52411             Read the T.O.S., you'll thank me later  r/technology   \n",
       "52412  What am I missing here... https://openai.com/t...  r/technology   \n",
       "52413            What does ChatGTP think of its own TOS?  r/technology   \n",
       "52414  Don't know what they're referring to in the TO...  r/technology   \n",
       "\n",
       "       comment_len                                 comment_body_clean  \\\n",
       "0               10                        shocked days need clickbait   \n",
       "1              229  angry right wasted time reading post sub click...   \n",
       "2               23  chatgpt karma whoring folks think stream thoug...   \n",
       "3                4                                         worked ngl   \n",
       "4               12         certified mustsee moment really shock core   \n",
       "...            ...                                                ...   \n",
       "52410           41  scary thing future text trustworthy either cas...   \n",
       "52411            7                               read tos thank later   \n",
       "52412            6                                            missing   \n",
       "52413            8                                  chatgtp think tos   \n",
       "52414           20  know referring tos sections seem noteworthy c ...   \n",
       "\n",
       "       comment_len_clean                                             tokens  \\\n",
       "0                      4   [101, 7135, 2420, 2342, 11562, 26068, 2102, 102]   \n",
       "1                     89  [101, 4854, 2157, 13842, 2051, 3752, 2695, 494...   \n",
       "2                     12  [101, 11834, 21600, 2102, 19902, 2040, 4892, 1...   \n",
       "3                      2                      [101, 2499, 12835, 2140, 102]   \n",
       "4                      6  [101, 7378, 2442, 19763, 2617, 2428, 5213, 456...   \n",
       "...                  ...                                                ...   \n",
       "52410                 20  [101, 12459, 2518, 2925, 3793, 3404, 13966, 25...   \n",
       "52411                  4           [101, 3191, 2000, 2015, 4067, 2101, 102]   \n",
       "52412                  1                                   [101, 4394, 102]   \n",
       "52413                  3   [101, 11834, 13512, 2361, 2228, 2000, 2015, 102]   \n",
       "52414                 10  [101, 2113, 7727, 2000, 2015, 5433, 4025, 1914...   \n",
       "\n",
       "       len_token  \n",
       "0              8  \n",
       "1            113  \n",
       "2             17  \n",
       "3              5  \n",
       "4              9  \n",
       "...          ...  \n",
       "52410         26  \n",
       "52411          7  \n",
       "52412          3  \n",
       "52413          8  \n",
       "52414         13  \n",
       "\n",
       "[51982 rows x 10 columns]"
      ]
     },
     "execution_count": 26,
     "metadata": {},
     "output_type": "execute_result"
    }
   ],
   "source": [
    "df"
   ]
  },
  {
   "cell_type": "code",
   "execution_count": 27,
   "id": "f5ee9b59",
   "metadata": {
    "execution": {
     "iopub.execute_input": "2023-12-10T00:26:19.057932Z",
     "iopub.status.busy": "2023-12-10T00:26:19.057623Z",
     "iopub.status.idle": "2023-12-10T00:26:19.144034Z",
     "shell.execute_reply": "2023-12-10T00:26:19.143144Z"
    },
    "papermill": {
     "duration": 0.103232,
     "end_time": "2023-12-10T00:26:19.145879",
     "exception": false,
     "start_time": "2023-12-10T00:26:19.042647",
     "status": "completed"
    },
    "tags": []
   },
   "outputs": [],
   "source": [
    "# Selecting 20% of the data for KMeans training while maintaining the original category proportions\n",
    "train_data, test_data, train_labels, test_labels = train_test_split(df, df['subreddit'], test_size=0.8, stratify=df['subreddit'])"
   ]
  },
  {
   "cell_type": "code",
   "execution_count": 28,
   "id": "6cec290d",
   "metadata": {
    "execution": {
     "iopub.execute_input": "2023-12-10T00:26:19.173444Z",
     "iopub.status.busy": "2023-12-10T00:26:19.173193Z",
     "iopub.status.idle": "2023-12-10T00:26:19.855490Z",
     "shell.execute_reply": "2023-12-10T00:26:19.854597Z"
    },
    "papermill": {
     "duration": 0.698253,
     "end_time": "2023-12-10T00:26:19.857510",
     "exception": false,
     "start_time": "2023-12-10T00:26:19.159257",
     "status": "completed"
    },
    "tags": []
   },
   "outputs": [
    {
     "data": {
      "text/plain": [
       "<Axes: title={'center': 'number of values in each category'}>"
      ]
     },
     "execution_count": 28,
     "metadata": {},
     "output_type": "execute_result"
    },
    {
     "data": {
      "image/png": "[encoded data removed]",
      "text/plain": [
       "<Figure size 640x480 with 1 Axes>"
      ]
     },
     "metadata": {},
     "output_type": "display_data"
    }
   ],
   "source": [
    "train_data['subreddit'].value_counts().plot.bar(color= 'lightcoral', title= 'number of values in each category')"
   ]
  },
  {
   "cell_type": "code",
   "execution_count": 29,
   "id": "337fa540",
   "metadata": {
    "execution": {
     "iopub.execute_input": "2023-12-10T00:26:19.887329Z",
     "iopub.status.busy": "2023-12-10T00:26:19.887011Z",
     "iopub.status.idle": "2023-12-10T00:26:19.892751Z",
     "shell.execute_reply": "2023-12-10T00:26:19.891881Z"
    },
    "papermill": {
     "duration": 0.022795,
     "end_time": "2023-12-10T00:26:19.894671",
     "exception": false,
     "start_time": "2023-12-10T00:26:19.871876",
     "status": "completed"
    },
    "tags": []
   },
   "outputs": [
    {
     "data": {
      "text/plain": [
       "10396"
      ]
     },
     "execution_count": 29,
     "metadata": {},
     "output_type": "execute_result"
    }
   ],
   "source": [
    "len(train_data)"
   ]
  },
  {
   "cell_type": "code",
   "execution_count": 30,
   "id": "0bbe3e98",
   "metadata": {
    "execution": {
     "iopub.execute_input": "2023-12-10T00:26:19.924772Z",
     "iopub.status.busy": "2023-12-10T00:26:19.924406Z",
     "iopub.status.idle": "2023-12-10T00:59:12.029026Z",
     "shell.execute_reply": "2023-12-10T00:59:12.028086Z"
    },
    "papermill": {
     "duration": 1972.122187,
     "end_time": "2023-12-10T00:59:12.031240",
     "exception": false,
     "start_time": "2023-12-10T00:26:19.909053",
     "status": "completed"
    },
    "tags": []
   },
   "outputs": [
    {
     "data": {
      "application/vnd.jupyter.widget-view+json": {
       "model_id": "b9b35ea9b925474da026b6490efd92a1",
       "version_major": 2,
       "version_minor": 0
      },
      "text/plain": [
       "  0%|          | 0/10396 [00:00<?, ?it/s]"
      ]
     },
     "metadata": {},
     "output_type": "display_data"
    }
   ],
   "source": [
    "# embedding data based on pre-trained Bert model\n",
    "train_data['embedd'] = train_data['tokens'].progress_apply(lambda x: np.array(model(x[None,:])[0][0][1:-1]).mean(0))"
   ]
  },
  {
   "cell_type": "code",
   "execution_count": 31,
   "id": "348ffe96",
   "metadata": {
    "execution": {
     "iopub.execute_input": "2023-12-10T00:59:12.063727Z",
     "iopub.status.busy": "2023-12-10T00:59:12.063071Z",
     "iopub.status.idle": "2023-12-10T00:59:16.411642Z",
     "shell.execute_reply": "2023-12-10T00:59:16.410709Z"
    },
    "papermill": {
     "duration": 4.367109,
     "end_time": "2023-12-10T00:59:16.413944",
     "exception": false,
     "start_time": "2023-12-10T00:59:12.046835",
     "status": "completed"
    },
    "tags": []
   },
   "outputs": [],
   "source": [
    "features_bert = pd.DataFrame(train_data['embedd'].tolist())"
   ]
  },
  {
   "cell_type": "code",
   "execution_count": null,
   "id": "c466493d",
   "metadata": {
    "papermill": {
     "duration": 0.014586,
     "end_time": "2023-12-10T00:59:16.443822",
     "exception": false,
     "start_time": "2023-12-10T00:59:16.429236",
     "status": "completed"
    },
    "tags": []
   },
   "outputs": [],
   "source": []
  }
 ],
 "metadata": {
  "kaggle": {
   "accelerator": "gpu",
   "dataSources": [
    {
     "datasetId": 2849037,
     "sourceId": 4912664,
     "sourceType": "datasetVersion"
    }
   ],
   "dockerImageVersionId": 30527,
   "isGpuEnabled": true,
   "isInternetEnabled": true,
   "language": "python",
   "sourceType": "notebook"
  },
  "kernelspec": {
   "display_name": "Python 3",
   "language": "python",
   "name": "python3"
  },
  "language_info": {
   "codemirror_mode": {
    "name": "ipython",
    "version": 3
   },
   "file_extension": ".py",
   "mimetype": "text/x-python",
   "name": "python",
   "nbconvert_exporter": "python",
   "pygments_lexer": "ipython3",
   "version": "3.10.12"
  },
  "papermill": {
   "default_parameters": {},
   "duration": 2152.59584,
   "end_time": "2023-12-10T00:59:19.347634",
   "environment_variables": {},
   "exception": null,
   "input_path": "__notebook__.ipynb",
   "output_path": "__notebook__.ipynb",
   "parameters": {},
   "start_time": "2023-12-10T00:23:26.751794",
   "version": "2.4.0"
  },
  "widgets": {
   "application/vnd.jupyter.widget-state+json": {
    "state": {
     "064090a9929c4cf3bccc53408eacae5c": {
      "model_module": "@jupyter-widgets/base",
      "model_module_version": "1.2.0",
      "model_name": "LayoutModel",
      "state": {
       "_model_module": "@jupyter-widgets/base",
       "_model_module_version": "1.2.0",
       "_model_name": "LayoutModel",
       "_view_count": null,
       "_view_module": "@jupyter-widgets/base",
       "_view_module_version": "1.2.0",
       "_view_name": "LayoutView",
       "align_content": null,
       "align_items": null,
       "align_self": null,
       "border": null,
       "bottom": null,
       "display": null,
       "flex": null,
       "flex_flow": null,
       "grid_area": null,
       "grid_auto_columns": null,
       "grid_auto_flow": null,
       "grid_auto_rows": null,
       "grid_column": null,
       "grid_gap": null,
       "grid_row": null,
       "grid_template_areas": null,
       "grid_template_columns": null,
       "grid_template_rows": null,
       "height": null,
       "justify_content": null,
       "justify_items": null,
       "left": null,
       "margin": null,
       "max_height": null,
       "max_width": null,
       "min_height": null,
       "min_width": null,
       "object_fit": null,
       "object_position": null,
       "order": null,
       "overflow": null,
       "overflow_x": null,
       "overflow_y": null,
       "padding": null,
       "right": null,
       "top": null,
       "visibility": null,
       "width": null
      }
     },
     "08362310016046e28eaed721f712a691": {
      "model_module": "@jupyter-widgets/base",
      "model_module_version": "1.2.0",
      "model_name": "LayoutModel",
      "state": {
       "_model_module": "@jupyter-widgets/base",
       "_model_module_version": "1.2.0",
       "_model_name": "LayoutModel",
       "_view_count": null,
       "_view_module": "@jupyter-widgets/base",
       "_view_module_version": "1.2.0",
       "_view_name": "LayoutView",
       "align_content": null,
       "align_items": null,
       "align_self": null,
       "border": null,
       "bottom": null,
       "display": null,
       "flex": null,
       "flex_flow": null,
       "grid_area": null,
       "grid_auto_columns": null,
       "grid_auto_flow": null,
       "grid_auto_rows": null,
       "grid_column": null,
       "grid_gap": null,
       "grid_row": null,
       "grid_template_areas": null,
       "grid_template_columns": null,
       "grid_template_rows": null,
       "height": null,
       "justify_content": null,
       "justify_items": null,
       "left": null,
       "margin": null,
       "max_height": null,
       "max_width": null,
       "min_height": null,
       "min_width": null,
       "object_fit": null,
       "object_position": null,
       "order": null,
       "overflow": null,
       "overflow_x": null,
       "overflow_y": null,
       "padding": null,
       "right": null,
       "top": null,
       "visibility": null,
       "width": null
      }
     },
     "1306a20d0599412e9123a15b55a65697": {
      "model_module": "@jupyter-widgets/controls",
      "model_module_version": "1.5.0",
      "model_name": "FloatProgressModel",
      "state": {
       "_dom_classes": [],
       "_model_module": "@jupyter-widgets/controls",
       "_model_module_version": "1.5.0",
       "_model_name": "FloatProgressModel",
       "_view_count": null,
       "_view_module": "@jupyter-widgets/controls",
       "_view_module_version": "1.5.0",
       "_view_name": "ProgressView",
       "bar_style": "success",
       "description": "",
       "description_tooltip": null,
       "layout": "IPY_MODEL_8bf049dedaa34ef0ad8260d36b303f41",
       "max": 51983.0,
       "min": 0.0,
       "orientation": "horizontal",
       "style": "IPY_MODEL_a5dfb7860b3546d4b74ed32aff48bd06",
       "value": 51983.0
      }
     },
     "19e60451dfdc4df9ab0738f3d42e3f57": {
      "model_module": "@jupyter-widgets/controls",
      "model_module_version": "1.5.0",
      "model_name": "ProgressStyleModel",
      "state": {
       "_model_module": "@jupyter-widgets/controls",
       "_model_module_version": "1.5.0",
       "_model_name": "ProgressStyleModel",
       "_view_count": null,
       "_view_module": "@jupyter-widgets/base",
       "_view_module_version": "1.2.0",
       "_view_name": "StyleView",
       "bar_color": null,
       "description_width": ""
      }
     },
     "1a1990d24b7c4bd782044085d2852686": {
      "model_module": "@jupyter-widgets/controls",
      "model_module_version": "1.5.0",
      "model_name": "DescriptionStyleModel",
      "state": {
       "_model_module": "@jupyter-widgets/controls",
       "_model_module_version": "1.5.0",
       "_model_name": "DescriptionStyleModel",
       "_view_count": null,
       "_view_module": "@jupyter-widgets/base",
       "_view_module_version": "1.2.0",
       "_view_name": "StyleView",
       "description_width": ""
      }
     },
     "2112c1c6273c4f11b6c30e4bf34ee0dc": {
      "model_module": "@jupyter-widgets/controls",
      "model_module_version": "1.5.0",
      "model_name": "HTMLModel",
      "state": {
       "_dom_classes": [],
       "_model_module": "@jupyter-widgets/controls",
       "_model_module_version": "1.5.0",
       "_model_name": "HTMLModel",
       "_view_count": null,
       "_view_module": "@jupyter-widgets/controls",
       "_view_module_version": "1.5.0",
       "_view_name": "HTMLView",
       "description": "",
       "description_tooltip": null,
       "layout": "IPY_MODEL_aa8509a599054cd19e22282e8d7b0ea9",
       "placeholder": "​",
       "style": "IPY_MODEL_7132a89ac9a144a48befc56aa55ec234",
       "value": "100%"
      }
     },
     "284cc6532eab464da4aec0285917721c": {
      "model_module": "@jupyter-widgets/controls",
      "model_module_version": "1.5.0",
      "model_name": "HTMLModel",
      "state": {
       "_dom_classes": [],
       "_model_module": "@jupyter-widgets/controls",
       "_model_module_version": "1.5.0",
       "_model_name": "HTMLModel",
       "_view_count": null,
       "_view_module": "@jupyter-widgets/controls",
       "_view_module_version": "1.5.0",
       "_view_name": "HTMLView",
       "description": "",
       "description_tooltip": null,
       "layout": "IPY_MODEL_4638a09d49d34792b7d78016b64a1027",
       "placeholder": "​",
       "style": "IPY_MODEL_c253db81363c415cab1478439b21c1fc",
       "value": " 570/570 [00:00&lt;00:00, 48.3kB/s]"
      }
     },
     "2f4ff723d4f84e05a98da6f645e4f1af": {
      "model_module": "@jupyter-widgets/controls",
      "model_module_version": "1.5.0",
      "model_name": "HTMLModel",
      "state": {
       "_dom_classes": [],
       "_model_module": "@jupyter-widgets/controls",
       "_model_module_version": "1.5.0",
       "_model_name": "HTMLModel",
       "_view_count": null,
       "_view_module": "@jupyter-widgets/controls",
       "_view_module_version": "1.5.0",
       "_view_name": "HTMLView",
       "description": "",
       "description_tooltip": null,
       "layout": "IPY_MODEL_064090a9929c4cf3bccc53408eacae5c",
       "placeholder": "​",
       "style": "IPY_MODEL_1a1990d24b7c4bd782044085d2852686",
       "value": " 440M/440M [00:01&lt;00:00, 321MB/s]"
      }
     },
     "31c9776472bc49b5a9b77c7aa1db7ca1": {
      "model_module": "@jupyter-widgets/base",
      "model_module_version": "1.2.0",
      "model_name": "LayoutModel",
      "state": {
       "_model_module": "@jupyter-widgets/base",
       "_model_module_version": "1.2.0",
       "_model_name": "LayoutModel",
       "_view_count": null,
       "_view_module": "@jupyter-widgets/base",
       "_view_module_version": "1.2.0",
       "_view_name": "LayoutView",
       "align_content": null,
       "align_items": null,
       "align_self": null,
       "border": null,
       "bottom": null,
       "display": null,
       "flex": null,
       "flex_flow": null,
       "grid_area": null,
       "grid_auto_columns": null,
       "grid_auto_flow": null,
       "grid_auto_rows": null,
       "grid_column": null,
       "grid_gap": null,
       "grid_row": null,
       "grid_template_areas": null,
       "grid_template_columns": null,
       "grid_template_rows": null,
       "height": null,
       "justify_content": null,
       "justify_items": null,
       "left": null,
       "margin": null,
       "max_height": null,
       "max_width": null,
       "min_height": null,
       "min_width": null,
       "object_fit": null,
       "object_position": null,
       "order": null,
       "overflow": null,
       "overflow_x": null,
       "overflow_y": null,
       "padding": null,
       "right": null,
       "top": null,
       "visibility": null,
       "width": null
      }
     },
     "3323a1b6487f4178b35182161e7f1170": {
      "model_module": "@jupyter-widgets/controls",
      "model_module_version": "1.5.0",
      "model_name": "FloatProgressModel",
      "state": {
       "_dom_classes": [],
       "_model_module": "@jupyter-widgets/controls",
       "_model_module_version": "1.5.0",
       "_model_name": "FloatProgressModel",
       "_view_count": null,
       "_view_module": "@jupyter-widgets/controls",
       "_view_module_version": "1.5.0",
       "_view_name": "ProgressView",
       "bar_style": "success",
       "description": "",
       "description_tooltip": null,
       "layout": "IPY_MODEL_cf0105e719904eb795f646bbe0c54bf5",
       "max": 570.0,
       "min": 0.0,
       "orientation": "horizontal",
       "style": "IPY_MODEL_19e60451dfdc4df9ab0738f3d42e3f57",
       "value": 570.0
      }
     },
     "375f9f2cd62d4284a0b61124992e09ab": {
      "model_module": "@jupyter-widgets/base",
      "model_module_version": "1.2.0",
      "model_name": "LayoutModel",
      "state": {
       "_model_module": "@jupyter-widgets/base",
       "_model_module_version": "1.2.0",
       "_model_name": "LayoutModel",
       "_view_count": null,
       "_view_module": "@jupyter-widgets/base",
       "_view_module_version": "1.2.0",
       "_view_name": "LayoutView",
       "align_content": null,
       "align_items": null,
       "align_self": null,
       "border": null,
       "bottom": null,
       "display": null,
       "flex": null,
       "flex_flow": null,
       "grid_area": null,
       "grid_auto_columns": null,
       "grid_auto_flow": null,
       "grid_auto_rows": null,
       "grid_column": null,
       "grid_gap": null,
       "grid_row": null,
       "grid_template_areas": null,
       "grid_template_columns": null,
       "grid_template_rows": null,
       "height": null,
       "justify_content": null,
       "justify_items": null,
       "left": null,
       "margin": null,
       "max_height": null,
       "max_width": null,
       "min_height": null,
       "min_width": null,
       "object_fit": null,
       "object_position": null,
       "order": null,
       "overflow": null,
       "overflow_x": null,
       "overflow_y": null,
       "padding": null,
       "right": null,
       "top": null,
       "visibility": null,
       "width": null
      }
     },
     "380bd7cc7ec64a00bfafbefeb2736eb0": {
      "model_module": "@jupyter-widgets/controls",
      "model_module_version": "1.5.0",
      "model_name": "DescriptionStyleModel",
      "state": {
       "_model_module": "@jupyter-widgets/controls",
       "_model_module_version": "1.5.0",
       "_model_name": "DescriptionStyleModel",
       "_view_count": null,
       "_view_module": "@jupyter-widgets/base",
       "_view_module_version": "1.2.0",
       "_view_name": "StyleView",
       "description_width": ""
      }
     },
     "45011340ed284c6db03370aaad0f34bd": {
      "model_module": "@jupyter-widgets/controls",
      "model_module_version": "1.5.0",
      "model_name": "HBoxModel",
      "state": {
       "_dom_classes": [],
       "_model_module": "@jupyter-widgets/controls",
       "_model_module_version": "1.5.0",
       "_model_name": "HBoxModel",
       "_view_count": null,
       "_view_module": "@jupyter-widgets/controls",
       "_view_module_version": "1.5.0",
       "_view_name": "HBoxView",
       "box_style": "",
       "children": [
        "IPY_MODEL_846f50c967794d938f93d215217b0c84",
        "IPY_MODEL_a1e4a9da77e5455485e43a42def6794b",
        "IPY_MODEL_2f4ff723d4f84e05a98da6f645e4f1af"
       ],
       "layout": "IPY_MODEL_9984b5ca2f0148748ea5e2bd1346e1ad"
      }
     },
     "4638a09d49d34792b7d78016b64a1027": {
      "model_module": "@jupyter-widgets/base",
      "model_module_version": "1.2.0",
      "model_name": "LayoutModel",
      "state": {
       "_model_module": "@jupyter-widgets/base",
       "_model_module_version": "1.2.0",
       "_model_name": "LayoutModel",
       "_view_count": null,
       "_view_module": "@jupyter-widgets/base",
       "_view_module_version": "1.2.0",
       "_view_name": "LayoutView",
       "align_content": null,
       "align_items": null,
       "align_self": null,
       "border": null,
       "bottom": null,
       "display": null,
       "flex": null,
       "flex_flow": null,
       "grid_area": null,
       "grid_auto_columns": null,
       "grid_auto_flow": null,
       "grid_auto_rows": null,
       "grid_column": null,
       "grid_gap": null,
       "grid_row": null,
       "grid_template_areas": null,
       "grid_template_columns": null,
       "grid_template_rows": null,
       "height": null,
       "justify_content": null,
       "justify_items": null,
       "left": null,
       "margin": null,
       "max_height": null,
       "max_width": null,
       "min_height": null,
       "min_width": null,
       "object_fit": null,
       "object_position": null,
       "order": null,
       "overflow": null,
       "overflow_x": null,
       "overflow_y": null,
       "padding": null,
       "right": null,
       "top": null,
       "visibility": null,
       "width": null
      }
     },
     "463aeeb233cb44edab81b5bd7747b431": {
      "model_module": "@jupyter-widgets/base",
      "model_module_version": "1.2.0",
      "model_name": "LayoutModel",
      "state": {
       "_model_module": "@jupyter-widgets/base",
       "_model_module_version": "1.2.0",
       "_model_name": "LayoutModel",
       "_view_count": null,
       "_view_module": "@jupyter-widgets/base",
       "_view_module_version": "1.2.0",
       "_view_name": "LayoutView",
       "align_content": null,
       "align_items": null,
       "align_self": null,
       "border": null,
       "bottom": null,
       "display": null,
       "flex": null,
       "flex_flow": null,
       "grid_area": null,
       "grid_auto_columns": null,
       "grid_auto_flow": null,
       "grid_auto_rows": null,
       "grid_column": null,
       "grid_gap": null,
       "grid_row": null,
       "grid_template_areas": null,
       "grid_template_columns": null,
       "grid_template_rows": null,
       "height": null,
       "justify_content": null,
       "justify_items": null,
       "left": null,
       "margin": null,
       "max_height": null,
       "max_width": null,
       "min_height": null,
       "min_width": null,
       "object_fit": null,
       "object_position": null,
       "order": null,
       "overflow": null,
       "overflow_x": null,
       "overflow_y": null,
       "padding": null,
       "right": null,
       "top": null,
       "visibility": null,
       "width": null
      }
     },
     "47e454066cd0472d858d2ed682284f72": {
      "model_module": "@jupyter-widgets/controls",
      "model_module_version": "1.5.0",
      "model_name": "DescriptionStyleModel",
      "state": {
       "_model_module": "@jupyter-widgets/controls",
       "_model_module_version": "1.5.0",
       "_model_name": "DescriptionStyleModel",
       "_view_count": null,
       "_view_module": "@jupyter-widgets/base",
       "_view_module_version": "1.2.0",
       "_view_name": "StyleView",
       "description_width": ""
      }
     },
     "50f50b68ecae4e4d9c31a3da58eb1a93": {
      "model_module": "@jupyter-widgets/controls",
      "model_module_version": "1.5.0",
      "model_name": "HTMLModel",
      "state": {
       "_dom_classes": [],
       "_model_module": "@jupyter-widgets/controls",
       "_model_module_version": "1.5.0",
       "_model_name": "HTMLModel",
       "_view_count": null,
       "_view_module": "@jupyter-widgets/controls",
       "_view_module_version": "1.5.0",
       "_view_name": "HTMLView",
       "description": "",
       "description_tooltip": null,
       "layout": "IPY_MODEL_463aeeb233cb44edab81b5bd7747b431",
       "placeholder": "​",
       "style": "IPY_MODEL_7abe4722c42549308b2276e7f68636a4",
       "value": "Downloading vocab.txt: 100%"
      }
     },
     "5667df7fd0a740e3941fd0465671dc04": {
      "model_module": "@jupyter-widgets/base",
      "model_module_version": "1.2.0",
      "model_name": "LayoutModel",
      "state": {
       "_model_module": "@jupyter-widgets/base",
       "_model_module_version": "1.2.0",
       "_model_name": "LayoutModel",
       "_view_count": null,
       "_view_module": "@jupyter-widgets/base",
       "_view_module_version": "1.2.0",
       "_view_name": "LayoutView",
       "align_content": null,
       "align_items": null,
       "align_self": null,
       "border": null,
       "bottom": null,
       "display": null,
       "flex": null,
       "flex_flow": null,
       "grid_area": null,
       "grid_auto_columns": null,
       "grid_auto_flow": null,
       "grid_auto_rows": null,
       "grid_column": null,
       "grid_gap": null,
       "grid_row": null,
       "grid_template_areas": null,
       "grid_template_columns": null,
       "grid_template_rows": null,
       "height": null,
       "justify_content": null,
       "justify_items": null,
       "left": null,
       "margin": null,
       "max_height": null,
       "max_width": null,
       "min_height": null,
       "min_width": null,
       "object_fit": null,
       "object_position": null,
       "order": null,
       "overflow": null,
       "overflow_x": null,
       "overflow_y": null,
       "padding": null,
       "right": null,
       "top": null,
       "visibility": null,
       "width": null
      }
     },
     "5a0c6985a38745f5bdcee4c2fea6cbce": {
      "model_module": "@jupyter-widgets/controls",
      "model_module_version": "1.5.0",
      "model_name": "ProgressStyleModel",
      "state": {
       "_model_module": "@jupyter-widgets/controls",
       "_model_module_version": "1.5.0",
       "_model_name": "ProgressStyleModel",
       "_view_count": null,
       "_view_module": "@jupyter-widgets/base",
       "_view_module_version": "1.2.0",
       "_view_name": "StyleView",
       "bar_color": null,
       "description_width": ""
      }
     },
     "5d2839b1a26e42e6ac2ccfd9dcfb5b06": {
      "model_module": "@jupyter-widgets/controls",
      "model_module_version": "1.5.0",
      "model_name": "ProgressStyleModel",
      "state": {
       "_model_module": "@jupyter-widgets/controls",
       "_model_module_version": "1.5.0",
       "_model_name": "ProgressStyleModel",
       "_view_count": null,
       "_view_module": "@jupyter-widgets/base",
       "_view_module_version": "1.2.0",
       "_view_name": "StyleView",
       "bar_color": null,
       "description_width": ""
      }
     },
     "60a0617eb8bc45b18ad8d969a6399074": {
      "model_module": "@jupyter-widgets/base",
      "model_module_version": "1.2.0",
      "model_name": "LayoutModel",
      "state": {
       "_model_module": "@jupyter-widgets/base",
       "_model_module_version": "1.2.0",
       "_model_name": "LayoutModel",
       "_view_count": null,
       "_view_module": "@jupyter-widgets/base",
       "_view_module_version": "1.2.0",
       "_view_name": "LayoutView",
       "align_content": null,
       "align_items": null,
       "align_self": null,
       "border": null,
       "bottom": null,
       "display": null,
       "flex": null,
       "flex_flow": null,
       "grid_area": null,
       "grid_auto_columns": null,
       "grid_auto_flow": null,
       "grid_auto_rows": null,
       "grid_column": null,
       "grid_gap": null,
       "grid_row": null,
       "grid_template_areas": null,
       "grid_template_columns": null,
       "grid_template_rows": null,
       "height": null,
       "justify_content": null,
       "justify_items": null,
       "left": null,
       "margin": null,
       "max_height": null,
       "max_width": null,
       "min_height": null,
       "min_width": null,
       "object_fit": null,
       "object_position": null,
       "order": null,
       "overflow": null,
       "overflow_x": null,
       "overflow_y": null,
       "padding": null,
       "right": null,
       "top": null,
       "visibility": null,
       "width": null
      }
     },
     "612fd845b0784a4f878a7b116ab7e6dc": {
      "model_module": "@jupyter-widgets/base",
      "model_module_version": "1.2.0",
      "model_name": "LayoutModel",
      "state": {
       "_model_module": "@jupyter-widgets/base",
       "_model_module_version": "1.2.0",
       "_model_name": "LayoutModel",
       "_view_count": null,
       "_view_module": "@jupyter-widgets/base",
       "_view_module_version": "1.2.0",
       "_view_name": "LayoutView",
       "align_content": null,
       "align_items": null,
       "align_self": null,
       "border": null,
       "bottom": null,
       "display": null,
       "flex": null,
       "flex_flow": null,
       "grid_area": null,
       "grid_auto_columns": null,
       "grid_auto_flow": null,
       "grid_auto_rows": null,
       "grid_column": null,
       "grid_gap": null,
       "grid_row": null,
       "grid_template_areas": null,
       "grid_template_columns": null,
       "grid_template_rows": null,
       "height": null,
       "justify_content": null,
       "justify_items": null,
       "left": null,
       "margin": null,
       "max_height": null,
       "max_width": null,
       "min_height": null,
       "min_width": null,
       "object_fit": null,
       "object_position": null,
       "order": null,
       "overflow": null,
       "overflow_x": null,
       "overflow_y": null,
       "padding": null,
       "right": null,
       "top": null,
       "visibility": null,
       "width": null
      }
     },
     "6193fcc3671b4cf9bee94e2218f5db33": {
      "model_module": "@jupyter-widgets/base",
      "model_module_version": "1.2.0",
      "model_name": "LayoutModel",
      "state": {
       "_model_module": "@jupyter-widgets/base",
       "_model_module_version": "1.2.0",
       "_model_name": "LayoutModel",
       "_view_count": null,
       "_view_module": "@jupyter-widgets/base",
       "_view_module_version": "1.2.0",
       "_view_name": "LayoutView",
       "align_content": null,
       "align_items": null,
       "align_self": null,
       "border": null,
       "bottom": null,
       "display": null,
       "flex": null,
       "flex_flow": null,
       "grid_area": null,
       "grid_auto_columns": null,
       "grid_auto_flow": null,
       "grid_auto_rows": null,
       "grid_column": null,
       "grid_gap": null,
       "grid_row": null,
       "grid_template_areas": null,
       "grid_template_columns": null,
       "grid_template_rows": null,
       "height": null,
       "justify_content": null,
       "justify_items": null,
       "left": null,
       "margin": null,
       "max_height": null,
       "max_width": null,
       "min_height": null,
       "min_width": null,
       "object_fit": null,
       "object_position": null,
       "order": null,
       "overflow": null,
       "overflow_x": null,
       "overflow_y": null,
       "padding": null,
       "right": null,
       "top": null,
       "visibility": null,
       "width": null
      }
     },
     "6273a8cd5c2b41dca32603b4effd1a57": {
      "model_module": "@jupyter-widgets/base",
      "model_module_version": "1.2.0",
      "model_name": "LayoutModel",
      "state": {
       "_model_module": "@jupyter-widgets/base",
       "_model_module_version": "1.2.0",
       "_model_name": "LayoutModel",
       "_view_count": null,
       "_view_module": "@jupyter-widgets/base",
       "_view_module_version": "1.2.0",
       "_view_name": "LayoutView",
       "align_content": null,
       "align_items": null,
       "align_self": null,
       "border": null,
       "bottom": null,
       "display": null,
       "flex": null,
       "flex_flow": null,
       "grid_area": null,
       "grid_auto_columns": null,
       "grid_auto_flow": null,
       "grid_auto_rows": null,
       "grid_column": null,
       "grid_gap": null,
       "grid_row": null,
       "grid_template_areas": null,
       "grid_template_columns": null,
       "grid_template_rows": null,
       "height": null,
       "justify_content": null,
       "justify_items": null,
       "left": null,
       "margin": null,
       "max_height": null,
       "max_width": null,
       "min_height": null,
       "min_width": null,
       "object_fit": null,
       "object_position": null,
       "order": null,
       "overflow": null,
       "overflow_x": null,
       "overflow_y": null,
       "padding": null,
       "right": null,
       "top": null,
       "visibility": null,
       "width": null
      }
     },
     "680a8d112ed74d909b8eec1f32c9d647": {
      "model_module": "@jupyter-widgets/controls",
      "model_module_version": "1.5.0",
      "model_name": "FloatProgressModel",
      "state": {
       "_dom_classes": [],
       "_model_module": "@jupyter-widgets/controls",
       "_model_module_version": "1.5.0",
       "_model_name": "FloatProgressModel",
       "_view_count": null,
       "_view_module": "@jupyter-widgets/controls",
       "_view_module_version": "1.5.0",
       "_view_name": "ProgressView",
       "bar_style": "success",
       "description": "",
       "description_tooltip": null,
       "layout": "IPY_MODEL_aca70b71f8a2423495162f73c06b3bb2",
       "max": 231508.0,
       "min": 0.0,
       "orientation": "horizontal",
       "style": "IPY_MODEL_5d2839b1a26e42e6ac2ccfd9dcfb5b06",
       "value": 231508.0
      }
     },
     "6c9a513b916e4154846e1ee3e5253309": {
      "model_module": "@jupyter-widgets/controls",
      "model_module_version": "1.5.0",
      "model_name": "DescriptionStyleModel",
      "state": {
       "_model_module": "@jupyter-widgets/controls",
       "_model_module_version": "1.5.0",
       "_model_name": "DescriptionStyleModel",
       "_view_count": null,
       "_view_module": "@jupyter-widgets/base",
       "_view_module_version": "1.2.0",
       "_view_name": "StyleView",
       "description_width": ""
      }
     },
     "7132a89ac9a144a48befc56aa55ec234": {
      "model_module": "@jupyter-widgets/controls",
      "model_module_version": "1.5.0",
      "model_name": "DescriptionStyleModel",
      "state": {
       "_model_module": "@jupyter-widgets/controls",
       "_model_module_version": "1.5.0",
       "_model_name": "DescriptionStyleModel",
       "_view_count": null,
       "_view_module": "@jupyter-widgets/base",
       "_view_module_version": "1.2.0",
       "_view_name": "StyleView",
       "description_width": ""
      }
     },
     "71a94d8d4fc7495581ac9cf0d2f2897c": {
      "model_module": "@jupyter-widgets/controls",
      "model_module_version": "1.5.0",
      "model_name": "HTMLModel",
      "state": {
       "_dom_classes": [],
       "_model_module": "@jupyter-widgets/controls",
       "_model_module_version": "1.5.0",
       "_model_name": "HTMLModel",
       "_view_count": null,
       "_view_module": "@jupyter-widgets/controls",
       "_view_module_version": "1.5.0",
       "_view_name": "HTMLView",
       "description": "",
       "description_tooltip": null,
       "layout": "IPY_MODEL_6273a8cd5c2b41dca32603b4effd1a57",
       "placeholder": "​",
       "style": "IPY_MODEL_380bd7cc7ec64a00bfafbefeb2736eb0",
       "value": "Downloading tokenizer_config.json: 100%"
      }
     },
     "740b42691edc47a7b023736702a6e2d0": {
      "model_module": "@jupyter-widgets/controls",
      "model_module_version": "1.5.0",
      "model_name": "FloatProgressModel",
      "state": {
       "_dom_classes": [],
       "_model_module": "@jupyter-widgets/controls",
       "_model_module_version": "1.5.0",
       "_model_name": "FloatProgressModel",
       "_view_count": null,
       "_view_module": "@jupyter-widgets/controls",
       "_view_module_version": "1.5.0",
       "_view_name": "ProgressView",
       "bar_style": "success",
       "description": "",
       "description_tooltip": null,
       "layout": "IPY_MODEL_d7a9a2858dd8447aa07deea8e2049fb9",
       "max": 28.0,
       "min": 0.0,
       "orientation": "horizontal",
       "style": "IPY_MODEL_b1574d367b044865b2ca8a9749ccb14f",
       "value": 28.0
      }
     },
     "777e87bfcacb4e2a8a0889543796078f": {
      "model_module": "@jupyter-widgets/controls",
      "model_module_version": "1.5.0",
      "model_name": "HBoxModel",
      "state": {
       "_dom_classes": [],
       "_model_module": "@jupyter-widgets/controls",
       "_model_module_version": "1.5.0",
       "_model_name": "HBoxModel",
       "_view_count": null,
       "_view_module": "@jupyter-widgets/controls",
       "_view_module_version": "1.5.0",
       "_view_name": "HBoxView",
       "box_style": "",
       "children": [
        "IPY_MODEL_71a94d8d4fc7495581ac9cf0d2f2897c",
        "IPY_MODEL_740b42691edc47a7b023736702a6e2d0",
        "IPY_MODEL_d6b2b23c0c6c4f109801e00b33256a97"
       ],
       "layout": "IPY_MODEL_cf73a87202fc4bb6af57f85a74b008a5"
      }
     },
     "7abe4722c42549308b2276e7f68636a4": {
      "model_module": "@jupyter-widgets/controls",
      "model_module_version": "1.5.0",
      "model_name": "DescriptionStyleModel",
      "state": {
       "_model_module": "@jupyter-widgets/controls",
       "_model_module_version": "1.5.0",
       "_model_name": "DescriptionStyleModel",
       "_view_count": null,
       "_view_module": "@jupyter-widgets/base",
       "_view_module_version": "1.2.0",
       "_view_name": "StyleView",
       "description_width": ""
      }
     },
     "7d17e6b3e0b1461e83f55a6a156f8423": {
      "model_module": "@jupyter-widgets/controls",
      "model_module_version": "1.5.0",
      "model_name": "HBoxModel",
      "state": {
       "_dom_classes": [],
       "_model_module": "@jupyter-widgets/controls",
       "_model_module_version": "1.5.0",
       "_model_name": "HBoxModel",
       "_view_count": null,
       "_view_module": "@jupyter-widgets/controls",
       "_view_module_version": "1.5.0",
       "_view_name": "HBoxView",
       "box_style": "",
       "children": [
        "IPY_MODEL_9d70c483b40d4c1c8ef7cb30f33a86ba",
        "IPY_MODEL_3323a1b6487f4178b35182161e7f1170",
        "IPY_MODEL_284cc6532eab464da4aec0285917721c"
       ],
       "layout": "IPY_MODEL_bb09dd5b95eb41309ae381663a57eaac"
      }
     },
     "7d552e93aa4e4ddcb51320404c8bb067": {
      "model_module": "@jupyter-widgets/controls",
      "model_module_version": "1.5.0",
      "model_name": "FloatProgressModel",
      "state": {
       "_dom_classes": [],
       "_model_module": "@jupyter-widgets/controls",
       "_model_module_version": "1.5.0",
       "_model_name": "FloatProgressModel",
       "_view_count": null,
       "_view_module": "@jupyter-widgets/controls",
       "_view_module_version": "1.5.0",
       "_view_name": "ProgressView",
       "bar_style": "success",
       "description": "",
       "description_tooltip": null,
       "layout": "IPY_MODEL_6193fcc3671b4cf9bee94e2218f5db33",
       "max": 10396.0,
       "min": 0.0,
       "orientation": "horizontal",
       "style": "IPY_MODEL_5a0c6985a38745f5bdcee4c2fea6cbce",
       "value": 10396.0
      }
     },
     "846f50c967794d938f93d215217b0c84": {
      "model_module": "@jupyter-widgets/controls",
      "model_module_version": "1.5.0",
      "model_name": "HTMLModel",
      "state": {
       "_dom_classes": [],
       "_model_module": "@jupyter-widgets/controls",
       "_model_module_version": "1.5.0",
       "_model_name": "HTMLModel",
       "_view_count": null,
       "_view_module": "@jupyter-widgets/controls",
       "_view_module_version": "1.5.0",
       "_view_name": "HTMLView",
       "description": "",
       "description_tooltip": null,
       "layout": "IPY_MODEL_c3ea829481924f44b39a4862cc367adc",
       "placeholder": "​",
       "style": "IPY_MODEL_6c9a513b916e4154846e1ee3e5253309",
       "value": "Downloading model.safetensors: 100%"
      }
     },
     "87814b28c9df4cd79ab677d4e5ce3c1a": {
      "model_module": "@jupyter-widgets/controls",
      "model_module_version": "1.5.0",
      "model_name": "HTMLModel",
      "state": {
       "_dom_classes": [],
       "_model_module": "@jupyter-widgets/controls",
       "_model_module_version": "1.5.0",
       "_model_name": "HTMLModel",
       "_view_count": null,
       "_view_module": "@jupyter-widgets/controls",
       "_view_module_version": "1.5.0",
       "_view_name": "HTMLView",
       "description": "",
       "description_tooltip": null,
       "layout": "IPY_MODEL_8e580e457adc48379baf9ba58406621b",
       "placeholder": "​",
       "style": "IPY_MODEL_92034213893b4e658e8934095361ce18",
       "value": " 10396/10396 [32:52&lt;00:00,  5.19it/s]"
      }
     },
     "8bb5ce8fc8244f2e9193fc8da3cebbe4": {
      "model_module": "@jupyter-widgets/base",
      "model_module_version": "1.2.0",
      "model_name": "LayoutModel",
      "state": {
       "_model_module": "@jupyter-widgets/base",
       "_model_module_version": "1.2.0",
       "_model_name": "LayoutModel",
       "_view_count": null,
       "_view_module": "@jupyter-widgets/base",
       "_view_module_version": "1.2.0",
       "_view_name": "LayoutView",
       "align_content": null,
       "align_items": null,
       "align_self": null,
       "border": null,
       "bottom": null,
       "display": null,
       "flex": null,
       "flex_flow": null,
       "grid_area": null,
       "grid_auto_columns": null,
       "grid_auto_flow": null,
       "grid_auto_rows": null,
       "grid_column": null,
       "grid_gap": null,
       "grid_row": null,
       "grid_template_areas": null,
       "grid_template_columns": null,
       "grid_template_rows": null,
       "height": null,
       "justify_content": null,
       "justify_items": null,
       "left": null,
       "margin": null,
       "max_height": null,
       "max_width": null,
       "min_height": null,
       "min_width": null,
       "object_fit": null,
       "object_position": null,
       "order": null,
       "overflow": null,
       "overflow_x": null,
       "overflow_y": null,
       "padding": null,
       "right": null,
       "top": null,
       "visibility": null,
       "width": null
      }
     },
     "8bf049dedaa34ef0ad8260d36b303f41": {
      "model_module": "@jupyter-widgets/base",
      "model_module_version": "1.2.0",
      "model_name": "LayoutModel",
      "state": {
       "_model_module": "@jupyter-widgets/base",
       "_model_module_version": "1.2.0",
       "_model_name": "LayoutModel",
       "_view_count": null,
       "_view_module": "@jupyter-widgets/base",
       "_view_module_version": "1.2.0",
       "_view_name": "LayoutView",
       "align_content": null,
       "align_items": null,
       "align_self": null,
       "border": null,
       "bottom": null,
       "display": null,
       "flex": null,
       "flex_flow": null,
       "grid_area": null,
       "grid_auto_columns": null,
       "grid_auto_flow": null,
       "grid_auto_rows": null,
       "grid_column": null,
       "grid_gap": null,
       "grid_row": null,
       "grid_template_areas": null,
       "grid_template_columns": null,
       "grid_template_rows": null,
       "height": null,
       "justify_content": null,
       "justify_items": null,
       "left": null,
       "margin": null,
       "max_height": null,
       "max_width": null,
       "min_height": null,
       "min_width": null,
       "object_fit": null,
       "object_position": null,
       "order": null,
       "overflow": null,
       "overflow_x": null,
       "overflow_y": null,
       "padding": null,
       "right": null,
       "top": null,
       "visibility": null,
       "width": null
      }
     },
     "8e580e457adc48379baf9ba58406621b": {
      "model_module": "@jupyter-widgets/base",
      "model_module_version": "1.2.0",
      "model_name": "LayoutModel",
      "state": {
       "_model_module": "@jupyter-widgets/base",
       "_model_module_version": "1.2.0",
       "_model_name": "LayoutModel",
       "_view_count": null,
       "_view_module": "@jupyter-widgets/base",
       "_view_module_version": "1.2.0",
       "_view_name": "LayoutView",
       "align_content": null,
       "align_items": null,
       "align_self": null,
       "border": null,
       "bottom": null,
       "display": null,
       "flex": null,
       "flex_flow": null,
       "grid_area": null,
       "grid_auto_columns": null,
       "grid_auto_flow": null,
       "grid_auto_rows": null,
       "grid_column": null,
       "grid_gap": null,
       "grid_row": null,
       "grid_template_areas": null,
       "grid_template_columns": null,
       "grid_template_rows": null,
       "height": null,
       "justify_content": null,
       "justify_items": null,
       "left": null,
       "margin": null,
       "max_height": null,
       "max_width": null,
       "min_height": null,
       "min_width": null,
       "object_fit": null,
       "object_position": null,
       "order": null,
       "overflow": null,
       "overflow_x": null,
       "overflow_y": null,
       "padding": null,
       "right": null,
       "top": null,
       "visibility": null,
       "width": null
      }
     },
     "92034213893b4e658e8934095361ce18": {
      "model_module": "@jupyter-widgets/controls",
      "model_module_version": "1.5.0",
      "model_name": "DescriptionStyleModel",
      "state": {
       "_model_module": "@jupyter-widgets/controls",
       "_model_module_version": "1.5.0",
       "_model_name": "DescriptionStyleModel",
       "_view_count": null,
       "_view_module": "@jupyter-widgets/base",
       "_view_module_version": "1.2.0",
       "_view_name": "StyleView",
       "description_width": ""
      }
     },
     "9984b5ca2f0148748ea5e2bd1346e1ad": {
      "model_module": "@jupyter-widgets/base",
      "model_module_version": "1.2.0",
      "model_name": "LayoutModel",
      "state": {
       "_model_module": "@jupyter-widgets/base",
       "_model_module_version": "1.2.0",
       "_model_name": "LayoutModel",
       "_view_count": null,
       "_view_module": "@jupyter-widgets/base",
       "_view_module_version": "1.2.0",
       "_view_name": "LayoutView",
       "align_content": null,
       "align_items": null,
       "align_self": null,
       "border": null,
       "bottom": null,
       "display": null,
       "flex": null,
       "flex_flow": null,
       "grid_area": null,
       "grid_auto_columns": null,
       "grid_auto_flow": null,
       "grid_auto_rows": null,
       "grid_column": null,
       "grid_gap": null,
       "grid_row": null,
       "grid_template_areas": null,
       "grid_template_columns": null,
       "grid_template_rows": null,
       "height": null,
       "justify_content": null,
       "justify_items": null,
       "left": null,
       "margin": null,
       "max_height": null,
       "max_width": null,
       "min_height": null,
       "min_width": null,
       "object_fit": null,
       "object_position": null,
       "order": null,
       "overflow": null,
       "overflow_x": null,
       "overflow_y": null,
       "padding": null,
       "right": null,
       "top": null,
       "visibility": null,
       "width": null
      }
     },
     "9d3f560f7d1647ee9959db9e93083526": {
      "model_module": "@jupyter-widgets/controls",
      "model_module_version": "1.5.0",
      "model_name": "ProgressStyleModel",
      "state": {
       "_model_module": "@jupyter-widgets/controls",
       "_model_module_version": "1.5.0",
       "_model_name": "ProgressStyleModel",
       "_view_count": null,
       "_view_module": "@jupyter-widgets/base",
       "_view_module_version": "1.2.0",
       "_view_name": "StyleView",
       "bar_color": null,
       "description_width": ""
      }
     },
     "9d70c483b40d4c1c8ef7cb30f33a86ba": {
      "model_module": "@jupyter-widgets/controls",
      "model_module_version": "1.5.0",
      "model_name": "HTMLModel",
      "state": {
       "_dom_classes": [],
       "_model_module": "@jupyter-widgets/controls",
       "_model_module_version": "1.5.0",
       "_model_name": "HTMLModel",
       "_view_count": null,
       "_view_module": "@jupyter-widgets/controls",
       "_view_module_version": "1.5.0",
       "_view_name": "HTMLView",
       "description": "",
       "description_tooltip": null,
       "layout": "IPY_MODEL_612fd845b0784a4f878a7b116ab7e6dc",
       "placeholder": "​",
       "style": "IPY_MODEL_47e454066cd0472d858d2ed682284f72",
       "value": "Downloading config.json: 100%"
      }
     },
     "a1e4a9da77e5455485e43a42def6794b": {
      "model_module": "@jupyter-widgets/controls",
      "model_module_version": "1.5.0",
      "model_name": "FloatProgressModel",
      "state": {
       "_dom_classes": [],
       "_model_module": "@jupyter-widgets/controls",
       "_model_module_version": "1.5.0",
       "_model_name": "FloatProgressModel",
       "_view_count": null,
       "_view_module": "@jupyter-widgets/controls",
       "_view_module_version": "1.5.0",
       "_view_name": "ProgressView",
       "bar_style": "success",
       "description": "",
       "description_tooltip": null,
       "layout": "IPY_MODEL_ebb47d5a98904877a15684d6c959276a",
       "max": 440449768.0,
       "min": 0.0,
       "orientation": "horizontal",
       "style": "IPY_MODEL_9d3f560f7d1647ee9959db9e93083526",
       "value": 440449768.0
      }
     },
     "a46ea28abfb241d69ef28a3a0c016cfc": {
      "model_module": "@jupyter-widgets/controls",
      "model_module_version": "1.5.0",
      "model_name": "HTMLModel",
      "state": {
       "_dom_classes": [],
       "_model_module": "@jupyter-widgets/controls",
       "_model_module_version": "1.5.0",
       "_model_name": "HTMLModel",
       "_view_count": null,
       "_view_module": "@jupyter-widgets/controls",
       "_view_module_version": "1.5.0",
       "_view_name": "HTMLView",
       "description": "",
       "description_tooltip": null,
       "layout": "IPY_MODEL_8bb5ce8fc8244f2e9193fc8da3cebbe4",
       "placeholder": "​",
       "style": "IPY_MODEL_e8248b2c5c914a1785e5e27f070fa96e",
       "value": "100%"
      }
     },
     "a5dfb7860b3546d4b74ed32aff48bd06": {
      "model_module": "@jupyter-widgets/controls",
      "model_module_version": "1.5.0",
      "model_name": "ProgressStyleModel",
      "state": {
       "_model_module": "@jupyter-widgets/controls",
       "_model_module_version": "1.5.0",
       "_model_name": "ProgressStyleModel",
       "_view_count": null,
       "_view_module": "@jupyter-widgets/base",
       "_view_module_version": "1.2.0",
       "_view_name": "StyleView",
       "bar_color": null,
       "description_width": ""
      }
     },
     "a80b5a2493654eb1b5f67f46b7283372": {
      "model_module": "@jupyter-widgets/controls",
      "model_module_version": "1.5.0",
      "model_name": "HTMLModel",
      "state": {
       "_dom_classes": [],
       "_model_module": "@jupyter-widgets/controls",
       "_model_module_version": "1.5.0",
       "_model_name": "HTMLModel",
       "_view_count": null,
       "_view_module": "@jupyter-widgets/controls",
       "_view_module_version": "1.5.0",
       "_view_name": "HTMLView",
       "description": "",
       "description_tooltip": null,
       "layout": "IPY_MODEL_08362310016046e28eaed721f712a691",
       "placeholder": "​",
       "style": "IPY_MODEL_dc0fee42237c4f8f99ed0e41abe31e1b",
       "value": " 232k/232k [00:00&lt;00:00, 6.46MB/s]"
      }
     },
     "aa8509a599054cd19e22282e8d7b0ea9": {
      "model_module": "@jupyter-widgets/base",
      "model_module_version": "1.2.0",
      "model_name": "LayoutModel",
      "state": {
       "_model_module": "@jupyter-widgets/base",
       "_model_module_version": "1.2.0",
       "_model_name": "LayoutModel",
       "_view_count": null,
       "_view_module": "@jupyter-widgets/base",
       "_view_module_version": "1.2.0",
       "_view_name": "LayoutView",
       "align_content": null,
       "align_items": null,
       "align_self": null,
       "border": null,
       "bottom": null,
       "display": null,
       "flex": null,
       "flex_flow": null,
       "grid_area": null,
       "grid_auto_columns": null,
       "grid_auto_flow": null,
       "grid_auto_rows": null,
       "grid_column": null,
       "grid_gap": null,
       "grid_row": null,
       "grid_template_areas": null,
       "grid_template_columns": null,
       "grid_template_rows": null,
       "height": null,
       "justify_content": null,
       "justify_items": null,
       "left": null,
       "margin": null,
       "max_height": null,
       "max_width": null,
       "min_height": null,
       "min_width": null,
       "object_fit": null,
       "object_position": null,
       "order": null,
       "overflow": null,
       "overflow_x": null,
       "overflow_y": null,
       "padding": null,
       "right": null,
       "top": null,
       "visibility": null,
       "width": null
      }
     },
     "aca70b71f8a2423495162f73c06b3bb2": {
      "model_module": "@jupyter-widgets/base",
      "model_module_version": "1.2.0",
      "model_name": "LayoutModel",
      "state": {
       "_model_module": "@jupyter-widgets/base",
       "_model_module_version": "1.2.0",
       "_model_name": "LayoutModel",
       "_view_count": null,
       "_view_module": "@jupyter-widgets/base",
       "_view_module_version": "1.2.0",
       "_view_name": "LayoutView",
       "align_content": null,
       "align_items": null,
       "align_self": null,
       "border": null,
       "bottom": null,
       "display": null,
       "flex": null,
       "flex_flow": null,
       "grid_area": null,
       "grid_auto_columns": null,
       "grid_auto_flow": null,
       "grid_auto_rows": null,
       "grid_column": null,
       "grid_gap": null,
       "grid_row": null,
       "grid_template_areas": null,
       "grid_template_columns": null,
       "grid_template_rows": null,
       "height": null,
       "justify_content": null,
       "justify_items": null,
       "left": null,
       "margin": null,
       "max_height": null,
       "max_width": null,
       "min_height": null,
       "min_width": null,
       "object_fit": null,
       "object_position": null,
       "order": null,
       "overflow": null,
       "overflow_x": null,
       "overflow_y": null,
       "padding": null,
       "right": null,
       "top": null,
       "visibility": null,
       "width": null
      }
     },
     "b1574d367b044865b2ca8a9749ccb14f": {
      "model_module": "@jupyter-widgets/controls",
      "model_module_version": "1.5.0",
      "model_name": "ProgressStyleModel",
      "state": {
       "_model_module": "@jupyter-widgets/controls",
       "_model_module_version": "1.5.0",
       "_model_name": "ProgressStyleModel",
       "_view_count": null,
       "_view_module": "@jupyter-widgets/base",
       "_view_module_version": "1.2.0",
       "_view_name": "StyleView",
       "bar_color": null,
       "description_width": ""
      }
     },
     "b1fa9e2ce6fb43faa93e38bc38595ce2": {
      "model_module": "@jupyter-widgets/controls",
      "model_module_version": "1.5.0",
      "model_name": "HTMLModel",
      "state": {
       "_dom_classes": [],
       "_model_module": "@jupyter-widgets/controls",
       "_model_module_version": "1.5.0",
       "_model_name": "HTMLModel",
       "_view_count": null,
       "_view_module": "@jupyter-widgets/controls",
       "_view_module_version": "1.5.0",
       "_view_name": "HTMLView",
       "description": "",
       "description_tooltip": null,
       "layout": "IPY_MODEL_375f9f2cd62d4284a0b61124992e09ab",
       "placeholder": "​",
       "style": "IPY_MODEL_b7bdcded96574c489ec6d4df44dec51b",
       "value": " 51983/51983 [00:53&lt;00:00, 936.55it/s]"
      }
     },
     "b7bdcded96574c489ec6d4df44dec51b": {
      "model_module": "@jupyter-widgets/controls",
      "model_module_version": "1.5.0",
      "model_name": "DescriptionStyleModel",
      "state": {
       "_model_module": "@jupyter-widgets/controls",
       "_model_module_version": "1.5.0",
       "_model_name": "DescriptionStyleModel",
       "_view_count": null,
       "_view_module": "@jupyter-widgets/base",
       "_view_module_version": "1.2.0",
       "_view_name": "StyleView",
       "description_width": ""
      }
     },
     "b9b35ea9b925474da026b6490efd92a1": {
      "model_module": "@jupyter-widgets/controls",
      "model_module_version": "1.5.0",
      "model_name": "HBoxModel",
      "state": {
       "_dom_classes": [],
       "_model_module": "@jupyter-widgets/controls",
       "_model_module_version": "1.5.0",
       "_model_name": "HBoxModel",
       "_view_count": null,
       "_view_module": "@jupyter-widgets/controls",
       "_view_module_version": "1.5.0",
       "_view_name": "HBoxView",
       "box_style": "",
       "children": [
        "IPY_MODEL_a46ea28abfb241d69ef28a3a0c016cfc",
        "IPY_MODEL_7d552e93aa4e4ddcb51320404c8bb067",
        "IPY_MODEL_87814b28c9df4cd79ab677d4e5ce3c1a"
       ],
       "layout": "IPY_MODEL_60a0617eb8bc45b18ad8d969a6399074"
      }
     },
     "bb09dd5b95eb41309ae381663a57eaac": {
      "model_module": "@jupyter-widgets/base",
      "model_module_version": "1.2.0",
      "model_name": "LayoutModel",
      "state": {
       "_model_module": "@jupyter-widgets/base",
       "_model_module_version": "1.2.0",
       "_model_name": "LayoutModel",
       "_view_count": null,
       "_view_module": "@jupyter-widgets/base",
       "_view_module_version": "1.2.0",
       "_view_name": "LayoutView",
       "align_content": null,
       "align_items": null,
       "align_self": null,
       "border": null,
       "bottom": null,
       "display": null,
       "flex": null,
       "flex_flow": null,
       "grid_area": null,
       "grid_auto_columns": null,
       "grid_auto_flow": null,
       "grid_auto_rows": null,
       "grid_column": null,
       "grid_gap": null,
       "grid_row": null,
       "grid_template_areas": null,
       "grid_template_columns": null,
       "grid_template_rows": null,
       "height": null,
       "justify_content": null,
       "justify_items": null,
       "left": null,
       "margin": null,
       "max_height": null,
       "max_width": null,
       "min_height": null,
       "min_width": null,
       "object_fit": null,
       "object_position": null,
       "order": null,
       "overflow": null,
       "overflow_x": null,
       "overflow_y": null,
       "padding": null,
       "right": null,
       "top": null,
       "visibility": null,
       "width": null
      }
     },
     "c253db81363c415cab1478439b21c1fc": {
      "model_module": "@jupyter-widgets/controls",
      "model_module_version": "1.5.0",
      "model_name": "DescriptionStyleModel",
      "state": {
       "_model_module": "@jupyter-widgets/controls",
       "_model_module_version": "1.5.0",
       "_model_name": "DescriptionStyleModel",
       "_view_count": null,
       "_view_module": "@jupyter-widgets/base",
       "_view_module_version": "1.2.0",
       "_view_name": "StyleView",
       "description_width": ""
      }
     },
     "c3ea829481924f44b39a4862cc367adc": {
      "model_module": "@jupyter-widgets/base",
      "model_module_version": "1.2.0",
      "model_name": "LayoutModel",
      "state": {
       "_model_module": "@jupyter-widgets/base",
       "_model_module_version": "1.2.0",
       "_model_name": "LayoutModel",
       "_view_count": null,
       "_view_module": "@jupyter-widgets/base",
       "_view_module_version": "1.2.0",
       "_view_name": "LayoutView",
       "align_content": null,
       "align_items": null,
       "align_self": null,
       "border": null,
       "bottom": null,
       "display": null,
       "flex": null,
       "flex_flow": null,
       "grid_area": null,
       "grid_auto_columns": null,
       "grid_auto_flow": null,
       "grid_auto_rows": null,
       "grid_column": null,
       "grid_gap": null,
       "grid_row": null,
       "grid_template_areas": null,
       "grid_template_columns": null,
       "grid_template_rows": null,
       "height": null,
       "justify_content": null,
       "justify_items": null,
       "left": null,
       "margin": null,
       "max_height": null,
       "max_width": null,
       "min_height": null,
       "min_width": null,
       "object_fit": null,
       "object_position": null,
       "order": null,
       "overflow": null,
       "overflow_x": null,
       "overflow_y": null,
       "padding": null,
       "right": null,
       "top": null,
       "visibility": null,
       "width": null
      }
     },
     "cf0105e719904eb795f646bbe0c54bf5": {
      "model_module": "@jupyter-widgets/base",
      "model_module_version": "1.2.0",
      "model_name": "LayoutModel",
      "state": {
       "_model_module": "@jupyter-widgets/base",
       "_model_module_version": "1.2.0",
       "_model_name": "LayoutModel",
       "_view_count": null,
       "_view_module": "@jupyter-widgets/base",
       "_view_module_version": "1.2.0",
       "_view_name": "LayoutView",
       "align_content": null,
       "align_items": null,
       "align_self": null,
       "border": null,
       "bottom": null,
       "display": null,
       "flex": null,
       "flex_flow": null,
       "grid_area": null,
       "grid_auto_columns": null,
       "grid_auto_flow": null,
       "grid_auto_rows": null,
       "grid_column": null,
       "grid_gap": null,
       "grid_row": null,
       "grid_template_areas": null,
       "grid_template_columns": null,
       "grid_template_rows": null,
       "height": null,
       "justify_content": null,
       "justify_items": null,
       "left": null,
       "margin": null,
       "max_height": null,
       "max_width": null,
       "min_height": null,
       "min_width": null,
       "object_fit": null,
       "object_position": null,
       "order": null,
       "overflow": null,
       "overflow_x": null,
       "overflow_y": null,
       "padding": null,
       "right": null,
       "top": null,
       "visibility": null,
       "width": null
      }
     },
     "cf73a87202fc4bb6af57f85a74b008a5": {
      "model_module": "@jupyter-widgets/base",
      "model_module_version": "1.2.0",
      "model_name": "LayoutModel",
      "state": {
       "_model_module": "@jupyter-widgets/base",
       "_model_module_version": "1.2.0",
       "_model_name": "LayoutModel",
       "_view_count": null,
       "_view_module": "@jupyter-widgets/base",
       "_view_module_version": "1.2.0",
       "_view_name": "LayoutView",
       "align_content": null,
       "align_items": null,
       "align_self": null,
       "border": null,
       "bottom": null,
       "display": null,
       "flex": null,
       "flex_flow": null,
       "grid_area": null,
       "grid_auto_columns": null,
       "grid_auto_flow": null,
       "grid_auto_rows": null,
       "grid_column": null,
       "grid_gap": null,
       "grid_row": null,
       "grid_template_areas": null,
       "grid_template_columns": null,
       "grid_template_rows": null,
       "height": null,
       "justify_content": null,
       "justify_items": null,
       "left": null,
       "margin": null,
       "max_height": null,
       "max_width": null,
       "min_height": null,
       "min_width": null,
       "object_fit": null,
       "object_position": null,
       "order": null,
       "overflow": null,
       "overflow_x": null,
       "overflow_y": null,
       "padding": null,
       "right": null,
       "top": null,
       "visibility": null,
       "width": null
      }
     },
     "d6b2b23c0c6c4f109801e00b33256a97": {
      "model_module": "@jupyter-widgets/controls",
      "model_module_version": "1.5.0",
      "model_name": "HTMLModel",
      "state": {
       "_dom_classes": [],
       "_model_module": "@jupyter-widgets/controls",
       "_model_module_version": "1.5.0",
       "_model_name": "HTMLModel",
       "_view_count": null,
       "_view_module": "@jupyter-widgets/controls",
       "_view_module_version": "1.5.0",
       "_view_name": "HTMLView",
       "description": "",
       "description_tooltip": null,
       "layout": "IPY_MODEL_31c9776472bc49b5a9b77c7aa1db7ca1",
       "placeholder": "​",
       "style": "IPY_MODEL_dc7e7187f73a4f75a1b97f4ec9edeb3e",
       "value": " 28.0/28.0 [00:00&lt;00:00, 2.37kB/s]"
      }
     },
     "d7a9a2858dd8447aa07deea8e2049fb9": {
      "model_module": "@jupyter-widgets/base",
      "model_module_version": "1.2.0",
      "model_name": "LayoutModel",
      "state": {
       "_model_module": "@jupyter-widgets/base",
       "_model_module_version": "1.2.0",
       "_model_name": "LayoutModel",
       "_view_count": null,
       "_view_module": "@jupyter-widgets/base",
       "_view_module_version": "1.2.0",
       "_view_name": "LayoutView",
       "align_content": null,
       "align_items": null,
       "align_self": null,
       "border": null,
       "bottom": null,
       "display": null,
       "flex": null,
       "flex_flow": null,
       "grid_area": null,
       "grid_auto_columns": null,
       "grid_auto_flow": null,
       "grid_auto_rows": null,
       "grid_column": null,
       "grid_gap": null,
       "grid_row": null,
       "grid_template_areas": null,
       "grid_template_columns": null,
       "grid_template_rows": null,
       "height": null,
       "justify_content": null,
       "justify_items": null,
       "left": null,
       "margin": null,
       "max_height": null,
       "max_width": null,
       "min_height": null,
       "min_width": null,
       "object_fit": null,
       "object_position": null,
       "order": null,
       "overflow": null,
       "overflow_x": null,
       "overflow_y": null,
       "padding": null,
       "right": null,
       "top": null,
       "visibility": null,
       "width": null
      }
     },
     "dc0fee42237c4f8f99ed0e41abe31e1b": {
      "model_module": "@jupyter-widgets/controls",
      "model_module_version": "1.5.0",
      "model_name": "DescriptionStyleModel",
      "state": {
       "_model_module": "@jupyter-widgets/controls",
       "_model_module_version": "1.5.0",
       "_model_name": "DescriptionStyleModel",
       "_view_count": null,
       "_view_module": "@jupyter-widgets/base",
       "_view_module_version": "1.2.0",
       "_view_name": "StyleView",
       "description_width": ""
      }
     },
     "dc7e7187f73a4f75a1b97f4ec9edeb3e": {
      "model_module": "@jupyter-widgets/controls",
      "model_module_version": "1.5.0",
      "model_name": "DescriptionStyleModel",
      "state": {
       "_model_module": "@jupyter-widgets/controls",
       "_model_module_version": "1.5.0",
       "_model_name": "DescriptionStyleModel",
       "_view_count": null,
       "_view_module": "@jupyter-widgets/base",
       "_view_module_version": "1.2.0",
       "_view_name": "StyleView",
       "description_width": ""
      }
     },
     "dccfa6867cff4db6a6c5f20ea0f8d387": {
      "model_module": "@jupyter-widgets/controls",
      "model_module_version": "1.5.0",
      "model_name": "HBoxModel",
      "state": {
       "_dom_classes": [],
       "_model_module": "@jupyter-widgets/controls",
       "_model_module_version": "1.5.0",
       "_model_name": "HBoxModel",
       "_view_count": null,
       "_view_module": "@jupyter-widgets/controls",
       "_view_module_version": "1.5.0",
       "_view_name": "HBoxView",
       "box_style": "",
       "children": [
        "IPY_MODEL_2112c1c6273c4f11b6c30e4bf34ee0dc",
        "IPY_MODEL_1306a20d0599412e9123a15b55a65697",
        "IPY_MODEL_b1fa9e2ce6fb43faa93e38bc38595ce2"
       ],
       "layout": "IPY_MODEL_e8d3e33c4e1449209b4c4a8655c79d06"
      }
     },
     "e8248b2c5c914a1785e5e27f070fa96e": {
      "model_module": "@jupyter-widgets/controls",
      "model_module_version": "1.5.0",
      "model_name": "DescriptionStyleModel",
      "state": {
       "_model_module": "@jupyter-widgets/controls",
       "_model_module_version": "1.5.0",
       "_model_name": "DescriptionStyleModel",
       "_view_count": null,
       "_view_module": "@jupyter-widgets/base",
       "_view_module_version": "1.2.0",
       "_view_name": "StyleView",
       "description_width": ""
      }
     },
     "e8d3e33c4e1449209b4c4a8655c79d06": {
      "model_module": "@jupyter-widgets/base",
      "model_module_version": "1.2.0",
      "model_name": "LayoutModel",
      "state": {
       "_model_module": "@jupyter-widgets/base",
       "_model_module_version": "1.2.0",
       "_model_name": "LayoutModel",
       "_view_count": null,
       "_view_module": "@jupyter-widgets/base",
       "_view_module_version": "1.2.0",
       "_view_name": "LayoutView",
       "align_content": null,
       "align_items": null,
       "align_self": null,
       "border": null,
       "bottom": null,
       "display": null,
       "flex": null,
       "flex_flow": null,
       "grid_area": null,
       "grid_auto_columns": null,
       "grid_auto_flow": null,
       "grid_auto_rows": null,
       "grid_column": null,
       "grid_gap": null,
       "grid_row": null,
       "grid_template_areas": null,
       "grid_template_columns": null,
       "grid_template_rows": null,
       "height": null,
       "justify_content": null,
       "justify_items": null,
       "left": null,
       "margin": null,
       "max_height": null,
       "max_width": null,
       "min_height": null,
       "min_width": null,
       "object_fit": null,
       "object_position": null,
       "order": null,
       "overflow": null,
       "overflow_x": null,
       "overflow_y": null,
       "padding": null,
       "right": null,
       "top": null,
       "visibility": null,
       "width": null
      }
     },
     "ebb47d5a98904877a15684d6c959276a": {
      "model_module": "@jupyter-widgets/base",
      "model_module_version": "1.2.0",
      "model_name": "LayoutModel",
      "state": {
       "_model_module": "@jupyter-widgets/base",
       "_model_module_version": "1.2.0",
       "_model_name": "LayoutModel",
       "_view_count": null,
       "_view_module": "@jupyter-widgets/base",
       "_view_module_version": "1.2.0",
       "_view_name": "LayoutView",
       "align_content": null,
       "align_items": null,
       "align_self": null,
       "border": null,
       "bottom": null,
       "display": null,
       "flex": null,
       "flex_flow": null,
       "grid_area": null,
       "grid_auto_columns": null,
       "grid_auto_flow": null,
       "grid_auto_rows": null,
       "grid_column": null,
       "grid_gap": null,
       "grid_row": null,
       "grid_template_areas": null,
       "grid_template_columns": null,
       "grid_template_rows": null,
       "height": null,
       "justify_content": null,
       "justify_items": null,
       "left": null,
       "margin": null,
       "max_height": null,
       "max_width": null,
       "min_height": null,
       "min_width": null,
       "object_fit": null,
       "object_position": null,
       "order": null,
       "overflow": null,
       "overflow_x": null,
       "overflow_y": null,
       "padding": null,
       "right": null,
       "top": null,
       "visibility": null,
       "width": null
      }
     },
     "f6b29081404e4c0fb243f5746a53b005": {
      "model_module": "@jupyter-widgets/controls",
      "model_module_version": "1.5.0",
      "model_name": "HBoxModel",
      "state": {
       "_dom_classes": [],
       "_model_module": "@jupyter-widgets/controls",
       "_model_module_version": "1.5.0",
       "_model_name": "HBoxModel",
       "_view_count": null,
       "_view_module": "@jupyter-widgets/controls",
       "_view_module_version": "1.5.0",
       "_view_name": "HBoxView",
       "box_style": "",
       "children": [
        "IPY_MODEL_50f50b68ecae4e4d9c31a3da58eb1a93",
        "IPY_MODEL_680a8d112ed74d909b8eec1f32c9d647",
        "IPY_MODEL_a80b5a2493654eb1b5f67f46b7283372"
       ],
       "layout": "IPY_MODEL_5667df7fd0a740e3941fd0465671dc04"
      }
     }
    },
    "version_major": 2,
    "version_minor": 0
   }
  }
 },
 "nbformat": 4,
 "nbformat_minor": 5
}
